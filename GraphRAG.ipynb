{
  "nbformat": 4,
  "nbformat_minor": 0,
  "metadata": {
    "colab": {
      "provenance": []
    },
    "kernelspec": {
      "name": "python3",
      "display_name": "Python 3"
    },
    "language_info": {
      "name": "python"
    },
    "widgets": {
      "application/vnd.jupyter.widget-state+json": {
        "2af1992f0389435694746bd3e3270449": {
          "model_module": "yfiles-jupyter-graphs",
          "model_name": "GraphModel",
          "model_module_version": "^1.8.1",
          "state": {
            "_context_pane_mapping": [
              {
                "id": "Neighborhood",
                "title": "Neighborhood"
              },
              {
                "id": "Data",
                "title": "Data"
              },
              {
                "id": "Search",
                "title": "Search"
              },
              {
                "id": "About",
                "title": "About"
              }
            ],
            "_data_importer": "neo4j",
            "_directed": true,
            "_dom_classes": [],
            "_edges": [
              {
                "id": 1152922604118474800,
                "start": 2,
                "end": 3,
                "properties": {
                  "label": "CONCERNED_WITH"
                },
                "label": "CONCERNED_WITH",
                "color": "#607D8B",
                "thickness_factor": 1,
                "directed": true
              },
              {
                "id": 1152923703630102500,
                "start": 2,
                "end": 4,
                "properties": {
                  "label": "STUDY_OF"
                },
                "label": "STUDY_OF",
                "color": "#673AB7",
                "thickness_factor": 1,
                "directed": true
              },
              {
                "id": 1152928101676613600,
                "start": 2,
                "end": 8,
                "properties": {
                  "label": "FINDS_APPLICATION_IN"
                },
                "label": "FINDS_APPLICATION_IN",
                "color": "#CDDC39",
                "thickness_factor": 1,
                "directed": true
              },
              {
                "id": 1155179901490299000,
                "start": 2,
                "end": 9,
                "properties": {
                  "label": "FINDS_APPLICATION_IN"
                },
                "label": "FINDS_APPLICATION_IN",
                "color": "#CDDC39",
                "thickness_factor": 1,
                "directed": true
              },
              {
                "id": 1157431701303984000,
                "start": 2,
                "end": 10,
                "properties": {
                  "label": "FINDS_APPLICATION_IN"
                },
                "label": "FINDS_APPLICATION_IN",
                "color": "#CDDC39",
                "thickness_factor": 1,
                "directed": true
              },
              {
                "id": 1159683501117669400,
                "start": 2,
                "end": 11,
                "properties": {
                  "label": "FINDS_APPLICATION_IN"
                },
                "label": "FINDS_APPLICATION_IN",
                "color": "#CDDC39",
                "thickness_factor": 1,
                "directed": true
              },
              {
                "id": 1161935300931354600,
                "start": 2,
                "end": 12,
                "properties": {
                  "label": "FINDS_APPLICATION_IN"
                },
                "label": "FINDS_APPLICATION_IN",
                "color": "#CDDC39",
                "thickness_factor": 1,
                "directed": true
              },
              {
                "id": 1164187100745040000,
                "start": 2,
                "end": 13,
                "properties": {
                  "label": "FINDS_APPLICATION_IN"
                },
                "label": "FINDS_APPLICATION_IN",
                "color": "#CDDC39",
                "thickness_factor": 1,
                "directed": true
              },
              {
                "id": 1152929201188241400,
                "start": 2,
                "end": 14,
                "properties": {
                  "label": "APPLIED_TO"
                },
                "label": "APPLIED_TO",
                "color": "#9E9E9E",
                "thickness_factor": 1,
                "directed": true
              },
              {
                "id": 1152931400211497000,
                "start": 2,
                "end": 16,
                "properties": {
                  "label": "SOURCE_OF_METHODS"
                },
                "label": "SOURCE_OF_METHODS",
                "color": "#9C27B0",
                "thickness_factor": 1,
                "directed": true
              },
              {
                "id": 1152932499723124700,
                "start": 2,
                "end": 17,
                "properties": {
                  "label": "PROVIDED_BY"
                },
                "label": "PROVIDED_BY",
                "color": "#2196F3",
                "thickness_factor": 1,
                "directed": true
              },
              {
                "id": 1152933599234752500,
                "start": 2,
                "end": 18,
                "properties": {
                  "label": "RELATED_TO"
                },
                "label": "RELATED_TO",
                "color": "#4CAF50",
                "thickness_factor": 1,
                "directed": true
              },
              {
                "id": 1152935798258008000,
                "start": 2,
                "end": 20,
                "properties": {
                  "label": "DESCRIBES"
                },
                "label": "DESCRIBES",
                "color": "#F44336",
                "thickness_factor": 1,
                "directed": true
              },
              {
                "id": 1152924803141730300,
                "start": 4,
                "end": 5,
                "properties": {
                  "label": "LEARN_FROM"
                },
                "label": "LEARN_FROM",
                "color": "#607D8B",
                "thickness_factor": 1,
                "directed": true
              },
              {
                "id": 1152925902653358000,
                "start": 4,
                "end": 7,
                "properties": {
                  "label": "GENERALIZE_TO"
                },
                "label": "GENERALIZE_TO",
                "color": "#673AB7",
                "thickness_factor": 1,
                "directed": true
              },
              {
                "id": 1152927002164985900,
                "start": 6,
                "end": 7,
                "properties": {
                  "label": "SURPASS"
                },
                "label": "SURPASS",
                "color": "#CDDC39",
                "thickness_factor": 1,
                "directed": true
              },
              {
                "id": 1152930300699869200,
                "start": 14,
                "end": 15,
                "properties": {
                  "label": "KNOWN_UNDER_THE_NAME"
                },
                "label": "KNOWN_UNDER_THE_NAME",
                "color": "#9E9E9E",
                "thickness_factor": 1,
                "directed": true
              },
              {
                "id": 1152934698746380300,
                "start": 18,
                "end": 19,
                "properties": {
                  "label": "FOCUSES_ON"
                },
                "label": "FOCUSES_ON",
                "color": "#9C27B0",
                "thickness_factor": 1,
                "directed": true
              },
              {
                "id": 1152936897769635800,
                "start": 21,
                "end": 2,
                "properties": {
                  "label": "COINED_THE_TERM"
                },
                "label": "COINED_THE_TERM",
                "color": "#2196F3",
                "thickness_factor": 1,
                "directed": true
              },
              {
                "id": 1152937997281263600,
                "start": 21,
                "end": 22,
                "properties": {
                  "label": "EMPLOYEE_OF"
                },
                "label": "EMPLOYEE_OF",
                "color": "#4CAF50",
                "thickness_factor": 1,
                "directed": true
              },
              {
                "id": 1155190896606576600,
                "start": 21,
                "end": 3,
                "properties": {
                  "label": "PIONEER_IN"
                },
                "label": "PIONEER_IN",
                "color": "#F44336",
                "thickness_factor": 1,
                "directed": true
              },
              {
                "id": 1152939096792891400,
                "start": 21,
                "end": 23,
                "properties": {
                  "label": "PIONEER_IN"
                },
                "label": "PIONEER_IN",
                "color": "#F44336",
                "thickness_factor": 1,
                "directed": true
              },
              {
                "id": 1152940196304519200,
                "start": 21,
                "end": 25,
                "properties": {
                  "label": "INVENTED_A_PROGRAM_FOR"
                },
                "label": "INVENTED_A_PROGRAM_FOR",
                "color": "#607D8B",
                "thickness_factor": 1,
                "directed": true
              },
              {
                "id": 1152941295816147000,
                "start": 25,
                "end": 2,
                "properties": {
                  "label": "INTRODUCED_THE_EARLIEST_MODEL_IN"
                },
                "label": "INTRODUCED_THE_EARLIEST_MODEL_IN",
                "color": "#673AB7",
                "thickness_factor": 1,
                "directed": true
              },
              {
                "id": 1152942395327774700,
                "start": 26,
                "end": 2,
                "properties": {
                  "label": "ROOTS_BACK_TO"
                },
                "label": "ROOTS_BACK_TO",
                "color": "#CDDC39",
                "thickness_factor": 1,
                "directed": true
              },
              {
                "id": 1152943494839402500,
                "start": 27,
                "end": 28,
                "properties": {
                  "label": "PUBLISHED"
                },
                "label": "PUBLISHED",
                "color": "#9E9E9E",
                "thickness_factor": 1,
                "directed": true
              },
              {
                "id": 1152944594351030300,
                "start": 27,
                "end": 29,
                "properties": {
                  "label": "INTRODUCED_A_THEORETICAL"
                },
                "label": "INTRODUCED_A_THEORETICAL",
                "color": "#9C27B0",
                "thickness_factor": 1,
                "directed": true
              },
              {
                "id": 1152945693862658000,
                "start": 29,
                "end": 30,
                "properties": {
                  "label": "FORMS_THE_BASIS_FOR"
                },
                "label": "FORMS_THE_BASIS_FOR",
                "color": "#2196F3",
                "thickness_factor": 1,
                "directed": true
              },
              {
                "id": 1152946793374285800,
                "start": 30,
                "end": 31,
                "properties": {
                  "label": "USED_BY"
                },
                "label": "USED_BY",
                "color": "#4CAF50",
                "thickness_factor": 1,
                "directed": true
              },
              {
                "id": 1152933599234752500,
                "start": 31,
                "end": 83,
                "properties": {
                  "label": "RELATED_TO"
                },
                "label": "RELATED_TO",
                "color": "#4CAF50",
                "thickness_factor": 1,
                "directed": true
              },
              {
                "id": 1152947892885913600,
                "start": 32,
                "end": 30,
                "properties": {
                  "label": "STUDIED"
                },
                "label": "STUDIED",
                "color": "#F44336",
                "thickness_factor": 1,
                "directed": true
              },
              {
                "id": 1152948992397541400,
                "start": 32,
                "end": 35,
                "properties": {
                  "label": "PROPOSED_EARLY_MATHEMATICAL_MODELS_FOR"
                },
                "label": "PROPOSED_EARLY_MATHEMATICAL_MODELS_FOR",
                "color": "#607D8B",
                "thickness_factor": 1,
                "directed": true
              },
              {
                "id": 1152947892885913600,
                "start": 33,
                "end": 30,
                "properties": {
                  "label": "STUDIED"
                },
                "label": "STUDIED",
                "color": "#F44336",
                "thickness_factor": 1,
                "directed": true
              },
              {
                "id": 1152948992397541400,
                "start": 33,
                "end": 35,
                "properties": {
                  "label": "PROPOSED_EARLY_MATHEMATICAL_MODELS_FOR"
                },
                "label": "PROPOSED_EARLY_MATHEMATICAL_MODELS_FOR",
                "color": "#607D8B",
                "thickness_factor": 1,
                "directed": true
              },
              {
                "id": 1153003967978930200,
                "start": 33,
                "end": 32,
                "properties": {
                  "label": "WORKED_TOGETHER"
                },
                "label": "WORKED_TOGETHER",
                "color": "#673AB7",
                "thickness_factor": 1,
                "directed": true
              },
              {
                "id": 1152950091909169200,
                "start": 37,
                "end": 38,
                "properties": {
                  "label": "DEVELOPED_BY"
                },
                "label": "DEVELOPED_BY",
                "color": "#CDDC39",
                "thickness_factor": 1,
                "directed": true
              },
              {
                "id": 6917563112501543000,
                "start": 37,
                "end": 47,
                "properties": {
                  "label": "CAUSES_TO_REEVALUATE"
                },
                "label": "CAUSES_TO_REEVALUATE",
                "color": "#9E9E9E",
                "thickness_factor": 1,
                "directed": true
              },
              {
                "id": 1152950091909169200,
                "start": 38,
                "end": 39,
                "properties": {
                  "label": "DEVELOPED_BY"
                },
                "label": "DEVELOPED_BY",
                "color": "#CDDC39",
                "thickness_factor": 1,
                "directed": true
              },
              {
                "id": 1152951191420797000,
                "start": 38,
                "end": 40,
                "properties": {
                  "label": "ANALYZED"
                },
                "label": "ANALYZED",
                "color": "#9C27B0",
                "thickness_factor": 1,
                "directed": true
              },
              {
                "id": 1155202991234482200,
                "start": 38,
                "end": 41,
                "properties": {
                  "label": "ANALYZED"
                },
                "label": "ANALYZED",
                "color": "#9C27B0",
                "thickness_factor": 1,
                "directed": true
              },
              {
                "id": 1157454791048167400,
                "start": 38,
                "end": 42,
                "properties": {
                  "label": "ANALYZED"
                },
                "label": "ANALYZED",
                "color": "#9C27B0",
                "thickness_factor": 1,
                "directed": true
              },
              {
                "id": 1152952290932424700,
                "start": 38,
                "end": 43,
                "properties": {
                  "label": "USED_RUDIMENTARY"
                },
                "label": "USED_RUDIMENTARY",
                "color": "#2196F3",
                "thickness_factor": 1,
                "directed": true
              },
              {
                "id": 6917560913478287000,
                "start": 38,
                "end": 46,
                "properties": {
                  "label": "TRAINED_BY"
                },
                "label": "TRAINED_BY",
                "color": "#4CAF50",
                "thickness_factor": 1,
                "directed": true
              },
              {
                "id": 1152954489955680300,
                "start": 38,
                "end": 37,
                "properties": {
                  "label": "EQUIPPED_WITH"
                },
                "label": "EQUIPPED_WITH",
                "color": "#F44336",
                "thickness_factor": 1,
                "directed": true
              },
              {
                "id": 1152956688978935800,
                "start": 44,
                "end": 45,
                "properties": {
                  "label": "REPRESENTATIVE_BOOK_ON"
                },
                "label": "REPRESENTATIVE_BOOK_ON",
                "color": "#607D8B",
                "thickness_factor": 1,
                "directed": true
              },
              {
                "id": 6917565311524798000,
                "start": 49,
                "end": 53,
                "properties": {
                  "label": "AUTHOR"
                },
                "label": "AUTHOR",
                "color": "#673AB7",
                "thickness_factor": 1,
                "directed": true
              },
              {
                "id": 6917566411036426000,
                "start": 50,
                "end": 54,
                "properties": {
                  "label": "DESCRIBED"
                },
                "label": "DESCRIBED",
                "color": "#CDDC39",
                "thickness_factor": 1,
                "directed": true
              },
              {
                "id": 6917567510548054000,
                "start": 51,
                "end": 55,
                "properties": {
                  "label": "DEFINED"
                },
                "label": "DEFINED",
                "color": "#9E9E9E",
                "thickness_factor": 1,
                "directed": true
              },
              {
                "id": 1152961087025447000,
                "start": 52,
                "end": 1,
                "properties": {
                  "label": "INSPIRED"
                },
                "label": "INSPIRED",
                "color": "#9C27B0",
                "thickness_factor": 1,
                "directed": true
              },
              {
                "id": 1152966584583585800,
                "start": 54,
                "end": 87,
                "properties": {
                  "label": "INVOLVES"
                },
                "label": "INVOLVES",
                "color": "#2196F3",
                "thickness_factor": 1,
                "directed": true
              }
            ],
            "_graph_layout": {},
            "_highlight": [],
            "_license": {},
            "_model_module": "yfiles-jupyter-graphs",
            "_model_module_version": "^1.8.1",
            "_model_name": "GraphModel",
            "_neighborhood": {},
            "_nodes": [
              {
                "id": 2,
                "properties": {
                  "id": "Ml",
                  "label": "__Entity__:Field of study"
                },
                "color": "#2196F3",
                "styles": {},
                "label": "Ml",
                "scale_factor": 1,
                "type": "#2196F3",
                "size": [
                  55,
                  55
                ],
                "position": [
                  0,
                  0
                ]
              },
              {
                "id": 3,
                "properties": {
                  "id": "Artificial Intelligence",
                  "label": "__Entity__:Field of study"
                },
                "color": "#2196F3",
                "styles": {},
                "label": "Artificial Intelligence",
                "scale_factor": 1,
                "type": "#2196F3",
                "size": [
                  55,
                  55
                ],
                "position": [
                  0,
                  0
                ]
              },
              {
                "id": 4,
                "properties": {
                  "id": "Statistical Algorithms",
                  "label": "__Entity__:Algorithm"
                },
                "color": "#4CAF50",
                "styles": {},
                "label": "Statistical Algorithms",
                "scale_factor": 1,
                "type": "#4CAF50",
                "size": [
                  55,
                  55
                ],
                "position": [
                  0,
                  0
                ]
              },
              {
                "id": 8,
                "properties": {
                  "id": "Natural Language Processing",
                  "label": "__Entity__:Application field"
                },
                "color": "#F44336",
                "styles": {},
                "label": "Natural Language Processing",
                "scale_factor": 1,
                "type": "#F44336",
                "size": [
                  55,
                  55
                ],
                "position": [
                  0,
                  0
                ]
              },
              {
                "id": 9,
                "properties": {
                  "id": "Computer Vision",
                  "label": "__Entity__:Application field"
                },
                "color": "#F44336",
                "styles": {},
                "label": "Computer Vision",
                "scale_factor": 1,
                "type": "#F44336",
                "size": [
                  55,
                  55
                ],
                "position": [
                  0,
                  0
                ]
              },
              {
                "id": 10,
                "properties": {
                  "id": "Speech Recognition",
                  "label": "__Entity__:Application field"
                },
                "color": "#F44336",
                "styles": {},
                "label": "Speech Recognition",
                "scale_factor": 1,
                "type": "#F44336",
                "size": [
                  55,
                  55
                ],
                "position": [
                  0,
                  0
                ]
              },
              {
                "id": 11,
                "properties": {
                  "id": "Email Filtering",
                  "label": "__Entity__:Application field"
                },
                "color": "#F44336",
                "styles": {},
                "label": "Email Filtering",
                "scale_factor": 1,
                "type": "#F44336",
                "size": [
                  55,
                  55
                ],
                "position": [
                  0,
                  0
                ]
              },
              {
                "id": 12,
                "properties": {
                  "id": "Agriculture",
                  "label": "__Entity__:Application field"
                },
                "color": "#F44336",
                "styles": {},
                "label": "Agriculture",
                "scale_factor": 1,
                "type": "#F44336",
                "size": [
                  55,
                  55
                ],
                "position": [
                  0,
                  0
                ]
              },
              {
                "id": 13,
                "properties": {
                  "id": "Medicine",
                  "label": "__Entity__:Application field"
                },
                "color": "#F44336",
                "styles": {},
                "label": "Medicine",
                "scale_factor": 1,
                "type": "#F44336",
                "size": [
                  55,
                  55
                ],
                "position": [
                  0,
                  0
                ]
              },
              {
                "id": 14,
                "properties": {
                  "id": "Business Problems",
                  "label": "__Entity__:Concept"
                },
                "color": "#607D8B",
                "styles": {},
                "label": "Business Problems",
                "scale_factor": 1,
                "type": "#607D8B",
                "size": [
                  55,
                  55
                ],
                "position": [
                  0,
                  0
                ]
              },
              {
                "id": 16,
                "properties": {
                  "id": "Computational Statistics",
                  "label": "__Entity__:Field of study"
                },
                "color": "#2196F3",
                "styles": {},
                "label": "Computational Statistics",
                "scale_factor": 1,
                "type": "#2196F3",
                "size": [
                  55,
                  55
                ],
                "position": [
                  0,
                  0
                ]
              },
              {
                "id": 17,
                "properties": {
                  "id": "Mathematical Optimization",
                  "label": "__Entity__:Method"
                },
                "color": "#673AB7",
                "styles": {},
                "label": "Mathematical Optimization",
                "scale_factor": 1,
                "type": "#673AB7",
                "size": [
                  55,
                  55
                ],
                "position": [
                  0,
                  0
                ]
              },
              {
                "id": 18,
                "properties": {
                  "id": "Data Mining",
                  "label": "__Entity__:Field of study"
                },
                "color": "#2196F3",
                "styles": {},
                "label": "Data Mining",
                "scale_factor": 1,
                "type": "#2196F3",
                "size": [
                  55,
                  55
                ],
                "position": [
                  0,
                  0
                ]
              },
              {
                "id": 20,
                "properties": {
                  "id": "Probably Approximately Correct (Pac) Learning",
                  "label": "__Entity__:Framework"
                },
                "color": "#CDDC39",
                "styles": {},
                "label": "Probably Approximately Correct (Pac) Learning",
                "scale_factor": 1,
                "type": "#CDDC39",
                "size": [
                  55,
                  55
                ],
                "position": [
                  0,
                  0
                ]
              },
              {
                "id": 5,
                "properties": {
                  "id": "Data",
                  "label": "__Entity__:Concept"
                },
                "color": "#607D8B",
                "styles": {},
                "label": "Data",
                "scale_factor": 1,
                "type": "#607D8B",
                "size": [
                  55,
                  55
                ],
                "position": [
                  0,
                  0
                ]
              },
              {
                "id": 7,
                "properties": {
                  "id": "Performance",
                  "label": "__Entity__:Concept"
                },
                "color": "#607D8B",
                "styles": {},
                "label": "Performance",
                "scale_factor": 1,
                "type": "#607D8B",
                "size": [
                  55,
                  55
                ],
                "position": [
                  0,
                  0
                ]
              },
              {
                "id": 6,
                "properties": {
                  "id": "Artificial Neural Networks",
                  "label": "__Entity__:Algorithm"
                },
                "color": "#4CAF50",
                "styles": {},
                "label": "Artificial Neural Networks",
                "scale_factor": 1,
                "type": "#4CAF50",
                "size": [
                  55,
                  55
                ],
                "position": [
                  0,
                  0
                ]
              },
              {
                "id": 15,
                "properties": {
                  "id": "Predictive Analytics",
                  "label": "__Entity__:Concept"
                },
                "color": "#607D8B",
                "styles": {},
                "label": "Predictive Analytics",
                "scale_factor": 1,
                "type": "#607D8B",
                "size": [
                  55,
                  55
                ],
                "position": [
                  0,
                  0
                ]
              },
              {
                "id": 19,
                "properties": {
                  "id": "Exploratory Data Analysis (Eda)",
                  "label": "__Entity__:Method"
                },
                "color": "#673AB7",
                "styles": {},
                "label": "Exploratory Data Analysis (Eda)",
                "scale_factor": 1,
                "type": "#673AB7",
                "size": [
                  55,
                  55
                ],
                "position": [
                  0,
                  0
                ]
              },
              {
                "id": 21,
                "properties": {
                  "id": "Arthur Samuel",
                  "label": "__Entity__:Person"
                },
                "color": "#9E9E9E",
                "styles": {},
                "label": "Arthur Samuel",
                "scale_factor": 1,
                "type": "#9E9E9E",
                "size": [
                  55,
                  55
                ],
                "position": [
                  0,
                  0
                ]
              },
              {
                "id": 22,
                "properties": {
                  "id": "Ibm",
                  "label": "__Entity__:Company"
                },
                "color": "#9C27B0",
                "styles": {},
                "label": "Ibm",
                "scale_factor": 1,
                "type": "#9C27B0",
                "size": [
                  55,
                  55
                ],
                "position": [
                  0,
                  0
                ]
              },
              {
                "id": 23,
                "properties": {
                  "id": "Computer Gaming",
                  "label": "__Entity__:Field of study"
                },
                "color": "#2196F3",
                "styles": {},
                "label": "Computer Gaming",
                "scale_factor": 1,
                "type": "#2196F3",
                "size": [
                  55,
                  55
                ],
                "position": [
                  0,
                  0
                ]
              },
              {
                "id": 25,
                "properties": {
                  "id": "Checkers",
                  "label": "__Entity__:Game"
                },
                "color": "#2196F3",
                "styles": {},
                "label": "Checkers",
                "scale_factor": 1,
                "type": "#2196F3",
                "size": [
                  55,
                  55
                ],
                "position": [
                  0,
                  0
                ]
              },
              {
                "id": 26,
                "properties": {
                  "id": "Human Cognitive Processes",
                  "label": "__Entity__:Concept"
                },
                "color": "#607D8B",
                "styles": {},
                "label": "Human Cognitive Processes",
                "scale_factor": 1,
                "type": "#607D8B",
                "size": [
                  55,
                  55
                ],
                "position": [
                  0,
                  0
                ]
              },
              {
                "id": 27,
                "properties": {
                  "id": "Donald Hebb",
                  "label": "__Entity__:Person"
                },
                "color": "#9E9E9E",
                "styles": {},
                "label": "Donald Hebb",
                "scale_factor": 1,
                "type": "#9E9E9E",
                "size": [
                  55,
                  55
                ],
                "position": [
                  0,
                  0
                ]
              },
              {
                "id": 28,
                "properties": {
                  "id": "The Organization Of Behavior",
                  "label": "__Entity__:Book"
                },
                "color": "#4CAF50",
                "styles": {},
                "label": "The Organization Of Behavior",
                "scale_factor": 1,
                "type": "#4CAF50",
                "size": [
                  55,
                  55
                ],
                "position": [
                  0,
                  0
                ]
              },
              {
                "id": 29,
                "properties": {
                  "id": "Neural Structure",
                  "label": "__Entity__:Concept"
                },
                "color": "#607D8B",
                "styles": {},
                "label": "Neural Structure",
                "scale_factor": 1,
                "type": "#607D8B",
                "size": [
                  55,
                  55
                ],
                "position": [
                  0,
                  0
                ]
              },
              {
                "id": 30,
                "properties": {
                  "id": "Ai",
                  "label": "__Entity__:Concept"
                },
                "color": "#607D8B",
                "styles": {},
                "label": "Ai",
                "scale_factor": 1,
                "type": "#607D8B",
                "size": [
                  55,
                  55
                ],
                "position": [
                  0,
                  0
                ]
              },
              {
                "id": 31,
                "properties": {
                  "id": "Artificial Neurons",
                  "label": "__Entity__:Neurons:Concept"
                },
                "color": "#F44336",
                "styles": {},
                "label": "Artificial Neurons",
                "scale_factor": 1,
                "type": "#F44336",
                "size": [
                  55,
                  55
                ],
                "position": [
                  0,
                  0
                ]
              },
              {
                "id": 83,
                "properties": {
                  "id": "Quantum Associative Memories",
                  "label": "__Entity__:Memory:Concept"
                },
                "color": "#607D8B",
                "styles": {},
                "label": "Quantum Associative Memories",
                "scale_factor": 1,
                "type": "#607D8B",
                "size": [
                  55,
                  55
                ],
                "position": [
                  0,
                  0
                ]
              },
              {
                "id": 32,
                "properties": {
                  "id": "Walter Pitts",
                  "label": "__Entity__:Person"
                },
                "color": "#9E9E9E",
                "styles": {},
                "label": "Walter Pitts",
                "scale_factor": 1,
                "type": "#9E9E9E",
                "size": [
                  55,
                  55
                ],
                "position": [
                  0,
                  0
                ]
              },
              {
                "id": 35,
                "properties": {
                  "id": "Neural Networks",
                  "label": "__Entity__:Algorithm:Concept"
                },
                "color": "#673AB7",
                "styles": {},
                "label": "Neural Networks",
                "scale_factor": 1,
                "type": "#673AB7",
                "size": [
                  55,
                  55
                ],
                "position": [
                  0,
                  0
                ]
              },
              {
                "id": 33,
                "properties": {
                  "id": "Warren Mcculloch",
                  "label": "__Entity__:Person"
                },
                "color": "#9E9E9E",
                "styles": {},
                "label": "Warren Mcculloch",
                "scale_factor": 1,
                "type": "#9E9E9E",
                "size": [
                  55,
                  55
                ],
                "position": [
                  0,
                  0
                ]
              },
              {
                "id": 37,
                "properties": {
                  "id": "Learning Machine",
                  "label": "__Entity__:Concept"
                },
                "color": "#607D8B",
                "styles": {},
                "label": "Learning Machine",
                "scale_factor": 1,
                "type": "#607D8B",
                "size": [
                  55,
                  55
                ],
                "position": [
                  0,
                  0
                ]
              },
              {
                "id": 38,
                "properties": {
                  "id": "Cybertron",
                  "label": "__Entity__:Machine"
                },
                "color": "#CDDC39",
                "styles": {},
                "label": "Cybertron",
                "scale_factor": 1,
                "type": "#CDDC39",
                "size": [
                  55,
                  55
                ],
                "position": [
                  0,
                  0
                ]
              },
              {
                "id": 47,
                "properties": {
                  "id": "Goof Button",
                  "label": "__Entity__"
                },
                "color": "#9E9E9E",
                "styles": {},
                "label": "Goof Button",
                "scale_factor": 1,
                "type": "#9E9E9E",
                "size": [
                  55,
                  55
                ],
                "position": [
                  0,
                  0
                ]
              },
              {
                "id": 39,
                "properties": {
                  "id": "Raytheon Company",
                  "label": "__Entity__:Company"
                },
                "color": "#9C27B0",
                "styles": {},
                "label": "Raytheon Company",
                "scale_factor": 1,
                "type": "#9C27B0",
                "size": [
                  55,
                  55
                ],
                "position": [
                  0,
                  0
                ]
              },
              {
                "id": 40,
                "properties": {
                  "id": "Sonar Signals",
                  "label": "__Entity__:Data"
                },
                "color": "#9C27B0",
                "styles": {},
                "label": "Sonar Signals",
                "scale_factor": 1,
                "type": "#9C27B0",
                "size": [
                  55,
                  55
                ],
                "position": [
                  0,
                  0
                ]
              },
              {
                "id": 41,
                "properties": {
                  "id": "Electrocardiograms",
                  "label": "__Entity__:Data"
                },
                "color": "#9C27B0",
                "styles": {},
                "label": "Electrocardiograms",
                "scale_factor": 1,
                "type": "#9C27B0",
                "size": [
                  55,
                  55
                ],
                "position": [
                  0,
                  0
                ]
              },
              {
                "id": 42,
                "properties": {
                  "id": "Speech Patterns",
                  "label": "__Entity__:Data"
                },
                "color": "#9C27B0",
                "styles": {},
                "label": "Speech Patterns",
                "scale_factor": 1,
                "type": "#9C27B0",
                "size": [
                  55,
                  55
                ],
                "position": [
                  0,
                  0
                ]
              },
              {
                "id": 43,
                "properties": {
                  "id": "Reinforcement Learning",
                  "label": "__Entity__:Method"
                },
                "color": "#673AB7",
                "styles": {},
                "label": "Reinforcement Learning",
                "scale_factor": 1,
                "type": "#673AB7",
                "size": [
                  55,
                  55
                ],
                "position": [
                  0,
                  0
                ]
              },
              {
                "id": 46,
                "properties": {
                  "id": "Human Operator/Teacher",
                  "label": "__Entity__"
                },
                "color": "#9E9E9E",
                "styles": {},
                "label": "Human Operator/Teacher",
                "scale_factor": 1,
                "type": "#9E9E9E",
                "size": [
                  55,
                  55
                ],
                "position": [
                  0,
                  0
                ]
              },
              {
                "id": 44,
                "properties": {
                  "id": "Research",
                  "label": "__Entity__:Activity"
                },
                "color": "#2196F3",
                "styles": {},
                "label": "Research",
                "scale_factor": 1,
                "type": "#2196F3",
                "size": [
                  55,
                  55
                ],
                "position": [
                  0,
                  0
                ]
              },
              {
                "id": 45,
                "properties": {
                  "id": "Nilsson'S Book On Learning Machines",
                  "label": "__Entity__:Book"
                },
                "color": "#4CAF50",
                "styles": {},
                "label": "Nilsson'S Book On Learning Machines",
                "scale_factor": 1,
                "type": "#4CAF50",
                "size": [
                  55,
                  55
                ],
                "position": [
                  0,
                  0
                ]
              },
              {
                "id": 49,
                "properties": {
                  "id": "Nilsson",
                  "label": "__Entity__:Person"
                },
                "color": "#9E9E9E",
                "styles": {},
                "label": "Nilsson",
                "scale_factor": 1,
                "type": "#9E9E9E",
                "size": [
                  55,
                  55
                ],
                "position": [
                  0,
                  0
                ]
              },
              {
                "id": 53,
                "properties": {
                  "id": "Learning Machines",
                  "label": "__Entity__"
                },
                "color": "#9E9E9E",
                "styles": {},
                "label": "Learning Machines",
                "scale_factor": 1,
                "type": "#9E9E9E",
                "size": [
                  55,
                  55
                ],
                "position": [
                  0,
                  0
                ]
              },
              {
                "id": 50,
                "properties": {
                  "id": "Duda And Hart",
                  "label": "__Entity__:Person"
                },
                "color": "#9E9E9E",
                "styles": {},
                "label": "Duda And Hart",
                "scale_factor": 1,
                "type": "#9E9E9E",
                "size": [
                  55,
                  55
                ],
                "position": [
                  0,
                  0
                ]
              },
              {
                "id": 54,
                "properties": {
                  "id": "Pattern Recognition",
                  "label": "__Entity__:Task"
                },
                "color": "#4CAF50",
                "styles": {},
                "label": "Pattern Recognition",
                "scale_factor": 1,
                "type": "#4CAF50",
                "size": [
                  55,
                  55
                ],
                "position": [
                  0,
                  0
                ]
              },
              {
                "id": 51,
                "properties": {
                  "id": "Tom M. Mitchell",
                  "label": "__Entity__:Person"
                },
                "color": "#9E9E9E",
                "styles": {},
                "label": "Tom M. Mitchell",
                "scale_factor": 1,
                "type": "#9E9E9E",
                "size": [
                  55,
                  55
                ],
                "position": [
                  0,
                  0
                ]
              },
              {
                "id": 55,
                "properties": {
                  "id": "Algorithms",
                  "label": "__Entity__"
                },
                "color": "#9E9E9E",
                "styles": {},
                "label": "Algorithms",
                "scale_factor": 1,
                "type": "#9E9E9E",
                "size": [
                  55,
                  55
                ],
                "position": [
                  0,
                  0
                ]
              },
              {
                "id": 52,
                "properties": {
                  "id": "Alan Turing",
                  "label": "__Entity__:Person"
                },
                "color": "#9E9E9E",
                "styles": {},
                "label": "Alan Turing",
                "scale_factor": 1,
                "type": "#9E9E9E",
                "size": [
                  55,
                  55
                ],
                "position": [
                  0,
                  0
                ]
              },
              {
                "id": 1,
                "properties": {
                  "id": "Machine Learning",
                  "label": "__Entity__:Field of study"
                },
                "color": "#2196F3",
                "styles": {},
                "label": "Machine Learning",
                "scale_factor": 1,
                "type": "#2196F3",
                "size": [
                  55,
                  55
                ],
                "position": [
                  0,
                  0
                ]
              },
              {
                "id": 87,
                "properties": {
                  "id": "Classical Associative Memories",
                  "label": "__Entity__:Memory"
                },
                "color": "#F44336",
                "styles": {},
                "label": "Classical Associative Memories",
                "scale_factor": 1,
                "type": "#F44336",
                "size": [
                  55,
                  55
                ],
                "position": [
                  0,
                  0
                ]
              }
            ],
            "_overview": {
              "enabled": null,
              "overview_set": false
            },
            "_selected_graph": [
              [],
              []
            ],
            "_sidebar": {
              "enabled": false,
              "start_with": null
            },
            "_view_count": null,
            "_view_module": "yfiles-jupyter-graphs",
            "_view_module_version": "^1.8.1",
            "_view_name": "GraphView",
            "layout": "IPY_MODEL_17e313467f0748858c9ecbbda7130c7e",
            "tabbable": null,
            "tooltip": null
          }
        },
        "17e313467f0748858c9ecbbda7130c7e": {
          "model_module": "@jupyter-widgets/base",
          "model_name": "LayoutModel",
          "model_module_version": "2.0.0",
          "state": {
            "_model_module": "@jupyter-widgets/base",
            "_model_module_version": "2.0.0",
            "_model_name": "LayoutModel",
            "_view_count": null,
            "_view_module": "@jupyter-widgets/base",
            "_view_module_version": "2.0.0",
            "_view_name": "LayoutView",
            "align_content": null,
            "align_items": null,
            "align_self": null,
            "border_bottom": null,
            "border_left": null,
            "border_right": null,
            "border_top": null,
            "bottom": null,
            "display": null,
            "flex": null,
            "flex_flow": null,
            "grid_area": null,
            "grid_auto_columns": null,
            "grid_auto_flow": null,
            "grid_auto_rows": null,
            "grid_column": null,
            "grid_gap": null,
            "grid_row": null,
            "grid_template_areas": null,
            "grid_template_columns": null,
            "grid_template_rows": null,
            "height": "800px",
            "justify_content": null,
            "justify_items": null,
            "left": null,
            "margin": null,
            "max_height": null,
            "max_width": null,
            "min_height": null,
            "min_width": null,
            "object_fit": null,
            "object_position": null,
            "order": null,
            "overflow": null,
            "padding": null,
            "right": null,
            "top": null,
            "visibility": null,
            "width": "100%"
          }
        }
      }
    }
  },
  "cells": [
    {
      "cell_type": "markdown",
      "source": [
        "Simple Implementation of Graph Based Retrieval Augmented Generation using Neo4J and Langchain\n"
      ],
      "metadata": {
        "id": "HKXDZkX3GuKD"
      }
    },
    {
      "cell_type": "code",
      "execution_count": null,
      "metadata": {
        "id": "yduaXiG_hgeu",
        "colab": {
          "base_uri": "https://localhost:8080/"
        },
        "outputId": "03eed119-63d0-4467-d133-48ecb9fb38c1"
      },
      "outputs": [
        {
          "output_type": "stream",
          "name": "stdout",
          "text": [
            "  Preparing metadata (setup.py) ... \u001b[?25l\u001b[?25hdone\n",
            "\u001b[2K     \u001b[90m━━━━━━━━━━━━━━━━━━━━━━━━━━━━━━━━━━━━━━━━\u001b[0m \u001b[32m50.4/50.4 kB\u001b[0m \u001b[31m2.2 MB/s\u001b[0m eta \u001b[36m0:00:00\u001b[0m\n",
            "\u001b[2K   \u001b[90m━━━━━━━━━━━━━━━━━━━━━━━━━━━━━━━━━━━━━━━━\u001b[0m \u001b[32m1.0/1.0 MB\u001b[0m \u001b[31m21.5 MB/s\u001b[0m eta \u001b[36m0:00:00\u001b[0m\n",
            "\u001b[2K   \u001b[90m━━━━━━━━━━━━━━━━━━━━━━━━━━━━━━━━━━━━━━━━\u001b[0m \u001b[32m2.3/2.3 MB\u001b[0m \u001b[31m47.7 MB/s\u001b[0m eta \u001b[36m0:00:00\u001b[0m\n",
            "\u001b[2K   \u001b[90m━━━━━━━━━━━━━━━━━━━━━━━━━━━━━━━━━━━━━━━━\u001b[0m \u001b[32m52.0/52.0 kB\u001b[0m \u001b[31m3.5 MB/s\u001b[0m eta \u001b[36m0:00:00\u001b[0m\n",
            "\u001b[2K   \u001b[90m━━━━━━━━━━━━━━━━━━━━━━━━━━━━━━━━━━━━━━━━\u001b[0m \u001b[32m204.3/204.3 kB\u001b[0m \u001b[31m11.3 MB/s\u001b[0m eta \u001b[36m0:00:00\u001b[0m\n",
            "\u001b[2K   \u001b[90m━━━━━━━━━━━━━━━━━━━━━━━━━━━━━━━━━━━━━━━━\u001b[0m \u001b[32m294.6/294.6 kB\u001b[0m \u001b[31m16.9 MB/s\u001b[0m eta \u001b[36m0:00:00\u001b[0m\n",
            "\u001b[2K   \u001b[90m━━━━━━━━━━━━━━━━━━━━━━━━━━━━━━━━━━━━━━━━\u001b[0m \u001b[32m1.1/1.1 MB\u001b[0m \u001b[31m37.0 MB/s\u001b[0m eta \u001b[36m0:00:00\u001b[0m\n",
            "\u001b[2K   \u001b[90m━━━━━━━━━━━━━━━━━━━━━━━━━━━━━━━━━━━━━━━━\u001b[0m \u001b[32m15.6/15.6 MB\u001b[0m \u001b[31m54.4 MB/s\u001b[0m eta \u001b[36m0:00:00\u001b[0m\n",
            "\u001b[2K   \u001b[90m━━━━━━━━━━━━━━━━━━━━━━━━━━━━━━━━━━━━━━━━\u001b[0m \u001b[32m139.8/139.8 kB\u001b[0m \u001b[31m10.1 MB/s\u001b[0m eta \u001b[36m0:00:00\u001b[0m\n",
            "\u001b[2K   \u001b[90m━━━━━━━━━━━━━━━━━━━━━━━━━━━━━━━━━━━━━━━━\u001b[0m \u001b[32m396.2/396.2 kB\u001b[0m \u001b[31m21.0 MB/s\u001b[0m eta \u001b[36m0:00:00\u001b[0m\n",
            "\u001b[2K   \u001b[90m━━━━━━━━━━━━━━━━━━━━━━━━━━━━━━━━━━━━━━━━\u001b[0m \u001b[32m150.7/150.7 kB\u001b[0m \u001b[31m11.9 MB/s\u001b[0m eta \u001b[36m0:00:00\u001b[0m\n",
            "\u001b[2K   \u001b[90m━━━━━━━━━━━━━━━━━━━━━━━━━━━━━━━━━━━━━━━━\u001b[0m \u001b[32m365.7/365.7 kB\u001b[0m \u001b[31m23.1 MB/s\u001b[0m eta \u001b[36m0:00:00\u001b[0m\n",
            "\u001b[2K   \u001b[90m━━━━━━━━━━━━━━━━━━━━━━━━━━━━━━━━━━━━━━━━\u001b[0m \u001b[32m76.4/76.4 kB\u001b[0m \u001b[31m5.9 MB/s\u001b[0m eta \u001b[36m0:00:00\u001b[0m\n",
            "\u001b[2K   \u001b[90m━━━━━━━━━━━━━━━━━━━━━━━━━━━━━━━━━━━━━━━━\u001b[0m \u001b[32m77.9/77.9 kB\u001b[0m \u001b[31m5.8 MB/s\u001b[0m eta \u001b[36m0:00:00\u001b[0m\n",
            "\u001b[2K   \u001b[90m━━━━━━━━━━━━━━━━━━━━━━━━━━━━━━━━━━━━━━━━\u001b[0m \u001b[32m318.9/318.9 kB\u001b[0m \u001b[31m22.3 MB/s\u001b[0m eta \u001b[36m0:00:00\u001b[0m\n",
            "\u001b[2K   \u001b[90m━━━━━━━━━━━━━━━━━━━━━━━━━━━━━━━━━━━━━━━━\u001b[0m \u001b[32m49.3/49.3 kB\u001b[0m \u001b[31m3.3 MB/s\u001b[0m eta \u001b[36m0:00:00\u001b[0m\n",
            "\u001b[2K   \u001b[90m━━━━━━━━━━━━━━━━━━━━━━━━━━━━━━━━━━━━━━━━\u001b[0m \u001b[32m141.9/141.9 kB\u001b[0m \u001b[31m10.1 MB/s\u001b[0m eta \u001b[36m0:00:00\u001b[0m\n",
            "\u001b[2K   \u001b[90m━━━━━━━━━━━━━━━━━━━━━━━━━━━━━━━━━━━━━━━━\u001b[0m \u001b[32m2.3/2.3 MB\u001b[0m \u001b[31m71.9 MB/s\u001b[0m eta \u001b[36m0:00:00\u001b[0m\n",
            "\u001b[2K   \u001b[90m━━━━━━━━━━━━━━━━━━━━━━━━━━━━━━━━━━━━━━━━\u001b[0m \u001b[32m58.3/58.3 kB\u001b[0m \u001b[31m4.1 MB/s\u001b[0m eta \u001b[36m0:00:00\u001b[0m\n",
            "\u001b[?25h  Building wheel for wikipedia (setup.py) ... \u001b[?25l\u001b[?25hdone\n"
          ]
        }
      ],
      "source": [
        "%pip install --upgrade --quiet langchain langchain-community langchain-openai langchain-experimental neo4j wikipedia tiktoken yfiles_jupyter_graphs\n"
      ]
    },
    {
      "cell_type": "code",
      "source": [
        "from google.colab import userdata\n",
        "openaiapi= userdata.get(\"openai\")"
      ],
      "metadata": {
        "id": "3REfEUdTh0rX"
      },
      "execution_count": null,
      "outputs": []
    },
    {
      "cell_type": "code",
      "source": [
        "import os\n",
        "os.environ[\"OPENAI_API_KEY\"]=openaiapi\n",
        "os.environ[\"NEO4J_URI\"]=NEO4J_URI\n",
        "os.environ[\"NEO4J_USERNAME\"]=NEO4J_USERNAME\n",
        "os.environ[\"NEO4J_PASSWORD\"]=NEO4J_PASSWORD"
      ],
      "metadata": {
        "id": "7WaSBW36nxA6"
      },
      "execution_count": null,
      "outputs": []
    },
    {
      "cell_type": "code",
      "source": [
        "from langchain_community.graphs import Neo4jGraph\n",
        "graph = Neo4jGraph()"
      ],
      "metadata": {
        "id": "wD77DkLIjmXn"
      },
      "execution_count": null,
      "outputs": []
    },
    {
      "cell_type": "code",
      "source": [
        "from langchain_openai import ChatOpenAI\n",
        "llm=ChatOpenAI(temperature=0, model_name=\"gpt-3.5-turbo-0125\")"
      ],
      "metadata": {
        "id": "Rp801zAIj4Iq"
      },
      "execution_count": null,
      "outputs": []
    },
    {
      "cell_type": "code",
      "source": [
        "from langchain_experimental.graph_transformers import LLMGraphTransformer\n",
        "llmt=LLMGraphTransformer(llm=llm)"
      ],
      "metadata": {
        "id": "AEEhQg83s53V"
      },
      "execution_count": null,
      "outputs": []
    },
    {
      "cell_type": "code",
      "source": [
        "\n",
        "from langchain.document_loaders import WikipediaLoader\n",
        "rawdoc= WikipediaLoader(\"Machine Learning\").load()"
      ],
      "metadata": {
        "id": "zRkomzWxkBTG"
      },
      "execution_count": null,
      "outputs": []
    },
    {
      "cell_type": "code",
      "source": [
        "from langchain.text_splitter import TokenTextSplitter\n",
        "tokensplitter= TokenTextSplitter(chunk_size=512,chunk_overlap=24)\n",
        "docs= tokensplitter.split_documents(rawdoc[:3])"
      ],
      "metadata": {
        "id": "u6yLBPTzmNd5"
      },
      "execution_count": null,
      "outputs": []
    },
    {
      "cell_type": "code",
      "source": [
        "graph_docs=llmt.convert_to_graph_documents(docs)"
      ],
      "metadata": {
        "id": "ITDh-OXro7DY"
      },
      "execution_count": null,
      "outputs": []
    },
    {
      "cell_type": "code",
      "source": [
        "graph.add_graph_documents(\n",
        "    graph_docs,\n",
        "    baseEntityLabel=True,\n",
        "    include_source=True)\n"
      ],
      "metadata": {
        "id": "WhWFiFV1thhM"
      },
      "execution_count": null,
      "outputs": []
    },
    {
      "cell_type": "code",
      "source": [
        "default_cypher = \"MATCH (s)-[r:!MENTIONS]->(t) RETURN s,r,t LIMIT 50\"\n"
      ],
      "metadata": {
        "id": "VhQOn9KIm76q"
      },
      "execution_count": null,
      "outputs": []
    },
    {
      "cell_type": "code",
      "source": [
        "from yfiles_jupyter_graphs import GraphWidget\n",
        "from neo4j import GraphDatabase"
      ],
      "metadata": {
        "id": "ntAWOVoBnMO8"
      },
      "execution_count": null,
      "outputs": []
    },
    {
      "cell_type": "code",
      "source": [
        "from google.colab import output\n",
        "output.enable_custom_widget_manager()"
      ],
      "metadata": {
        "id": "29YJQuI3sRb8"
      },
      "execution_count": null,
      "outputs": []
    },
    {
      "cell_type": "code",
      "source": [
        "def showGraph(cypher: str = default_cypher):\n",
        "    # create a neo4j session to run queries\n",
        "    driver = GraphDatabase.driver(\n",
        "        uri = os.environ[\"NEO4J_URI\"],\n",
        "        auth = (os.environ[\"NEO4J_USERNAME\"],\n",
        "                os.environ[\"NEO4J_PASSWORD\"]))\n",
        "    session = driver.session()\n",
        "    widget = GraphWidget(graph = session.run(cypher).graph())\n",
        "    widget.node_label_mapping = 'id'\n",
        "    display(widget)\n",
        "    return widget"
      ],
      "metadata": {
        "id": "yE3rhX4isdNl"
      },
      "execution_count": null,
      "outputs": []
    },
    {
      "cell_type": "code",
      "source": [
        "showGraph()"
      ],
      "metadata": {
        "colab": {
          "base_uri": "https://localhost:8080/",
          "height": 1000,
          "referenced_widgets": [
            "2af1992f0389435694746bd3e3270449",
            "17e313467f0748858c9ecbbda7130c7e"
          ]
        },
        "id": "Ttdg8WkusxAV",
        "outputId": "cc4a5c93-2bbd-467f-b6f5-9263f83c98b9"
      },
      "execution_count": null,
      "outputs": [
        {
          "output_type": "display_data",
          "data": {
            "text/plain": [
              "GraphWidget(layout=Layout(height='800px', width='100%'))"
            ],
            "application/vnd.jupyter.widget-view+json": {
              "version_major": 2,
              "version_minor": 0,
              "model_id": "2af1992f0389435694746bd3e3270449"
            }
          },
          "metadata": {
            "application/vnd.jupyter.widget-view+json": {
              "colab": {
                "custom_widget_manager": {
                  "url": "https://ssl.gstatic.com/colaboratory-static/widgets/colab-cdn-widget-manager/2b70e893a8ba7c0f/manager.min.js"
                }
              }
            }
          }
        },
        {
          "output_type": "display_data",
          "data": {
            "text/plain": [
              "GraphWidget(layout=Layout(height='800px', width='100%'))"
            ],
            "application/vnd.jupyter.widget-view+json": {
              "version_major": 2,
              "version_minor": 0,
              "model_id": "2af1992f0389435694746bd3e3270449"
            }
          },
          "metadata": {
            "application/vnd.jupyter.widget-view+json": {
              "colab": {
                "custom_widget_manager": {
                  "url": "https://ssl.gstatic.com/colaboratory-static/widgets/colab-cdn-widget-manager/2b70e893a8ba7c0f/manager.min.js"
                }
              }
            }
          }
        }
      ]
    },
    {
      "cell_type": "code",
      "source": [
        "from typing import Tuple, List, Optional\n",
        "from langchain_community.vectorstores import Neo4jVector"
      ],
      "metadata": {
        "id": "3Duknbnss00-"
      },
      "execution_count": null,
      "outputs": []
    },
    {
      "cell_type": "code",
      "source": [
        "from langchain_openai import OpenAIEmbeddings\n",
        "vector_index= Neo4jVector.from_existing_graph(\n",
        "    OpenAIEmbeddings(),\n",
        "    search_type=\"hybrid\",\n",
        "    node_label=\"Document\",\n",
        "    text_node_properties=[\"text\"],\n",
        "    embedding_node_property=\"embedding\",\n",
        "    url=os.environ[\"NEO4J_URI\"],\n",
        "    username=os.environ[\"NEO4J_USERNAME\"],\n",
        "    password=os.environ[\"NEO4J_PASSWORD\"]\n",
        ")"
      ],
      "metadata": {
        "id": "iuwcXXiAtBGx"
      },
      "execution_count": null,
      "outputs": []
    },
    {
      "cell_type": "code",
      "source": [
        "graph.query(\"CREATE FULLTEXT INDEX entity IF NOT EXISTS FOR (e:__Entity__) ON EACH [e.id]\")"
      ],
      "metadata": {
        "colab": {
          "base_uri": "https://localhost:8080/"
        },
        "id": "cwrGyXuIulqp",
        "outputId": "965423f9-fc07-4805-e6e0-4b95df494d5b"
      },
      "execution_count": null,
      "outputs": [
        {
          "output_type": "execute_result",
          "data": {
            "text/plain": [
              "[]"
            ]
          },
          "metadata": {},
          "execution_count": 27
        }
      ]
    },
    {
      "cell_type": "code",
      "source": [
        "from langchain_core.pydantic_v1 import BaseModel,Field\n",
        "\n",
        "class Entities(BaseModel):\n",
        "  \"\"\"Idetifying Information about Entities\"\"\"\n",
        "\n",
        "  names: List[str] = Field(\n",
        "      ...,\n",
        "      description =\"All the person, organization or business entities that appear in the text\"\n",
        "  )"
      ],
      "metadata": {
        "id": "ayj9zt-9u3gF"
      },
      "execution_count": null,
      "outputs": []
    },
    {
      "cell_type": "code",
      "source": [
        "from langchain_core.prompts import ChatPromptTemplate\n",
        "from langchain_core.prompts.prompt import PromptTemplate"
      ],
      "metadata": {
        "id": "Fa2OeVhgyr_0"
      },
      "execution_count": null,
      "outputs": []
    },
    {
      "cell_type": "code",
      "source": [
        "prompt = ChatPromptTemplate.from_messages(\n",
        "    [\n",
        "        (\n",
        "            \"system\",\n",
        "            \"You are extracting organization and person entites from the text.\",\n",
        "        ),\n",
        "        (\n",
        "            \"human\",\n",
        "            \"Use the given format to extact information from the following\"\n",
        "            \"input: {question}\",\n",
        "        ),\n",
        "    ]\n",
        ")"
      ],
      "metadata": {
        "id": "zgLYPoRkzJUj"
      },
      "execution_count": null,
      "outputs": []
    },
    {
      "cell_type": "code",
      "source": [
        "entity_chain = prompt | llm.with_structured_output(Entities)"
      ],
      "metadata": {
        "id": "kce2mnV8z3lG"
      },
      "execution_count": null,
      "outputs": []
    },
    {
      "cell_type": "code",
      "source": [
        "entity_chain.invoke({\"question\": \"  Peter Thiel is the founder of PayPal and Founder Fund\"}).names"
      ],
      "metadata": {
        "colab": {
          "base_uri": "https://localhost:8080/"
        },
        "id": "cCMlTDmh09k4",
        "outputId": "fb34332a-1ab2-47a3-f6f2-fa4046e6b59d"
      },
      "execution_count": null,
      "outputs": [
        {
          "output_type": "execute_result",
          "data": {
            "text/plain": [
              "['Peter Thiel', 'PayPal', 'Founder Fund']"
            ]
          },
          "metadata": {},
          "execution_count": 35
        }
      ]
    },
    {
      "cell_type": "code",
      "source": [
        "from langchain_community.vectorstores.neo4j_vector import remove_lucene_chars"
      ],
      "metadata": {
        "id": "QBtd7ZDd4P5X"
      },
      "execution_count": null,
      "outputs": []
    },
    {
      "cell_type": "code",
      "source": [
        "from typing import List\n",
        "\n",
        "def gen_full_query(input: str, use_fuzzy: bool = False, operator: str = \"AND\") -> str:\n",
        "    full_text_query = \"\"\n",
        "    cleaned_input = remove_lucene_chars(input).strip()\n",
        "    if not cleaned_input:\n",
        "        return full_text_query\n",
        "\n",
        "    words = cleaned_input.split()\n",
        "\n",
        "    # If the input has multiple words, use phrase matching\n",
        "    if len(words) > 1:\n",
        "        phrase = f'\"{cleaned_input}\"'\n",
        "        full_text_query += phrase + \" \"\n",
        "\n",
        "    for word in words[:-1]:\n",
        "        full_text_query += f\"{word} \" if not use_fuzzy else f\"{word}~ {operator} \"\n",
        "\n",
        "    last_word = words[-1]\n",
        "    full_text_query += f\"{last_word}~\" if use_fuzzy and len(last_word) > 2 else last_word\n",
        "\n",
        "    return full_text_query.strip()\n",
        "\n"
      ],
      "metadata": {
        "id": "YX_BmiK32MwE"
      },
      "execution_count": null,
      "outputs": []
    },
    {
      "cell_type": "code",
      "source": [
        "def structured_retriever(question: str) -> str:\n",
        "    result = \"\"\n",
        "    entities = entity_chain.invoke({\"question\": question})\n",
        "    for entity in entities.names:\n",
        "        response = graph.query(\n",
        "            \"\"\"\n",
        "            CALL db.index.fulltext.queryNodes('entity', $query, {limit:5})\n",
        "            YIELD node, score\n",
        "            WITH node, score\n",
        "            ORDER BY score DESC  // Ensure the highest scoring results come first\n",
        "            CALL {\n",
        "              WITH node\n",
        "              MATCH (node)-[r:!MENTIONS]->(neighbor)\n",
        "              RETURN node.id + ' - ' + type(r) + ' -> ' + neighbor.id AS output\n",
        "              UNION ALL\n",
        "              WITH node\n",
        "              MATCH (node)<-[r:!MENTIONS]-(neighbor)\n",
        "              RETURN neighbor.id + ' - ' + type(r) + ' -> ' +  node.id AS output\n",
        "            }\n",
        "            RETURN output LIMIT 50\n",
        "            \"\"\",\n",
        "            {\"query\": gen_full_query(entity, use_fuzzy=False)},\n",
        "        )\n",
        "        result += \"\\n\".join([el['output'] for el in response])\n",
        "    return result\n",
        "\n"
      ],
      "metadata": {
        "id": "-qRJysmv39Ep"
      },
      "execution_count": null,
      "outputs": []
    },
    {
      "cell_type": "code",
      "source": [
        "print(structured_retriever(\"Machine Learning\"))"
      ],
      "metadata": {
        "colab": {
          "base_uri": "https://localhost:8080/"
        },
        "id": "Cx6SQ2q64Azu",
        "outputId": "76000619-3670-4306-df17-7925ba9b1b9b"
      },
      "execution_count": null,
      "outputs": [
        {
          "output_type": "stream",
          "name": "stderr",
          "text": [
            "WARNING:neo4j.notifications:Received notification from DBMS server: {severity: WARNING} {code: Neo.ClientNotification.Statement.FeatureDeprecationWarning} {category: DEPRECATION} {title: This feature is deprecated and will be removed in future versions.} {description: CALL subquery without a variable scope clause is now deprecated. Use CALL (node, node) { ... }} {position: line: 6, column: 13, offset: 229} for query: \"\\n            CALL db.index.fulltext.queryNodes('entity', $query, {limit:5})\\n            YIELD node, score\\n            WITH node, score\\n            ORDER BY score DESC  // Ensure the highest scoring results come first\\n            CALL {\\n              WITH node\\n              MATCH (node)-[r:!MENTIONS]->(neighbor)\\n              RETURN node.id + ' - ' + type(r) + ' -> ' + neighbor.id AS output\\n              UNION ALL\\n              WITH node\\n              MATCH (node)<-[r:!MENTIONS]-(neighbor)\\n              RETURN neighbor.id + ' - ' + type(r) + ' -> ' +  node.id AS output\\n            }\\n            RETURN output LIMIT 50\\n            \"\n"
          ]
        },
        {
          "output_type": "stream",
          "name": "stdout",
          "text": [
            "Alan Turing - INSPIRED -> Machine Learning\n",
            "Quantum Machine Learning - INTEGRATION -> Machine Learning Programs\n",
            "Quantum Machine Learning - APPLIED_TO -> Data From Quantum Experiments\n",
            "Quantum Machine Learning - RELATED_TO -> Quantum Information\n",
            "Quantum Machine Learning - RELATED_TO -> Quantum Learning Theory\n",
            "Quantum Machine Learning - INTEGRATION -> Quantum Algorithms\n",
            "Quantum Machine Learning - INTEGRATION -> Machine Learning Programs\n",
            "Quantum Machine Learning - ANALYSIS -> Classical Data\n",
            "Quantum Machine Learning - REFERS_TO -> Quantum-Enhanced Machine Learning\n",
            "Quantum Machine Learning - UTILIZES -> Qubits\n",
            "Quantum Machine Learning - UTILIZES -> Quantum Operations\n",
            "Quantum Machine Learning - INVOLVES -> Hybrid Methods\n",
            "Quantum Machine Learning - OUTSOURCES_TO -> Quantum Device\n",
            "Quantum Machine Learning - ANALYZES -> Quantum States\n",
            "Quantum Machine Learning - ASSOCIATED_WITH -> Classical Machine Learning Methods\n",
            "Quantum Machine Learning - LEARNING_OF -> Phase Transitions Of A Quantum System\n",
            "Quantum Machine Learning - CREATING -> New Quantum Experiments\n",
            "Quantum Machine Learning - EXPLORES_SIMILARITIES_WITH -> Neural Networks\n",
            "Quantum Machine Learning - EXPLORES_SIMILARITIES_WITH -> Physical Systems\n",
            "Quantum Machine Learning - APPLICABLE_TO -> Mathematical Techniques\n",
            "Quantum Machine Learning - APPLICABLE_TO -> Numerical Techniques\n",
            "Quantum Machine Learning - APPLICABLE_TO -> Quantum Physics\n",
            "Quantum Machine Learning - APPLICABLE_TO -> Deep Learning\n",
            "Quantum-Enhanced Machine Learning - IMPLEMENTED_ON -> Quantum Machine Learning\n",
            "Quantum-Enhanced Machine Learning - REFERS_TO -> Tasks In Machine Learning\n",
            "Quantum Machine Learning - ASSOCIATED_WITH -> Classical Machine Learning Methods\n"
          ]
        }
      ]
    },
    {
      "cell_type": "code",
      "source": [
        "def retriever(question: str):\n",
        "    print(f\"Search query: {question}\")\n",
        "    structured_data = structured_retriever(question)\n",
        "    unstructured_data = [el.page_content for el in vector_index.similarity_search(question)]\n",
        "    final_data = f\"\"\"Structured data:\n",
        "{structured_data}\n",
        "Unstructured data:\n",
        "{\"#Document \". join(unstructured_data)}\n",
        "    \"\"\"\n",
        "    return final_data\n"
      ],
      "metadata": {
        "id": "Dt_ds_kp4D9m"
      },
      "execution_count": null,
      "outputs": []
    },
    {
      "cell_type": "code",
      "source": [
        "_template = \"\"\"Given the following conversation and a follow up question, rephrase the follow up question to be a standalone question,\n",
        "in its original language.\n",
        "Chat History:\n",
        "{chat_history}\n",
        "Follow Up Input: {question}\n",
        "Standalone question:\"\"\""
      ],
      "metadata": {
        "id": "y0hasm7JJz4d"
      },
      "execution_count": null,
      "outputs": []
    },
    {
      "cell_type": "code",
      "source": [
        "CONDENSE_QUESTION_PROMPT = PromptTemplate.from_template(_template)"
      ],
      "metadata": {
        "id": "aCOLnSCrJ3eM"
      },
      "execution_count": null,
      "outputs": []
    },
    {
      "cell_type": "code",
      "source": [
        "def _format_chat_history(chat_history: List[Tuple[str, str]]) -> List:\n",
        "    buffer = []\n",
        "    for human, ai in chat_history:\n",
        "        buffer.append(HumanMessage(content=human))\n",
        "        buffer.append(AIMessage(content=ai))\n",
        "    return buffer"
      ],
      "metadata": {
        "id": "x5vjaRKVJ7Mx"
      },
      "execution_count": null,
      "outputs": []
    },
    {
      "cell_type": "code",
      "source": [
        "from langchain_core.runnables import RunnableBranch, RunnableLambda,RunnablePassthrough\n",
        "from langchain_core.output_parsers.string import StrOutputParser\n",
        "from langchain.schema import HumanMessage, AIMessage\n",
        "_search_query = RunnableBranch(\n",
        "    # If input includes chat_history, we condense it with the follow-up question\n",
        "    (\n",
        "        RunnableLambda(lambda x: bool(x.get(\"chat_history\"))).with_config(\n",
        "            run_name=\"HasChatHistoryCheck\"\n",
        "        ),  # Condense follow-up question and chat into a standalone_question\n",
        "        RunnablePassthrough.assign(\n",
        "            chat_history=lambda x: _format_chat_history(x[\"chat_history\"])\n",
        "        )\n",
        "        | CONDENSE_QUESTION_PROMPT\n",
        "        | ChatOpenAI(temperature=0)\n",
        "        | StrOutputParser(),\n",
        "    ),\n",
        "    # Else, we have no chat history, so just pass through the question\n",
        "    RunnableLambda(lambda x : x[\"question\"]),\n",
        ")"
      ],
      "metadata": {
        "id": "W9-ShrA4J9T-"
      },
      "execution_count": null,
      "outputs": []
    },
    {
      "cell_type": "code",
      "source": [
        "template = \"\"\"Answer the question based only on the following context:\n",
        "{context}\n",
        "\n",
        "Question: {question}\n",
        "Use natural language and be concise.\n",
        "Answer:\"\"\""
      ],
      "metadata": {
        "id": "Obdlh2M4J_rQ"
      },
      "execution_count": null,
      "outputs": []
    },
    {
      "cell_type": "code",
      "source": [
        "prompt = ChatPromptTemplate.from_template(template)"
      ],
      "metadata": {
        "id": "vwQ6cnbVMBO9"
      },
      "execution_count": null,
      "outputs": []
    },
    {
      "cell_type": "code",
      "source": [
        "from langchain_core.runnables import RunnableParallel\n",
        "chain = (\n",
        "    RunnableParallel(\n",
        "        {\n",
        "            \"context\": _search_query | retriever,\n",
        "            \"question\": RunnablePassthrough(),\n",
        "        }\n",
        "    )\n",
        "    | prompt\n",
        "    | llm\n",
        "    | StrOutputParser()\n",
        ")"
      ],
      "metadata": {
        "id": "buiNND2PMD2m"
      },
      "execution_count": null,
      "outputs": []
    },
    {
      "cell_type": "code",
      "source": [
        "chain.invoke({\"question\": \"what is the uses of Machine Learning?\"})"
      ],
      "metadata": {
        "colab": {
          "base_uri": "https://localhost:8080/",
          "height": 159
        },
        "id": "RTHIeQL2MGBn",
        "outputId": "a028a335-6242-4e4c-b591-af6c176d0070"
      },
      "execution_count": null,
      "outputs": [
        {
          "output_type": "stream",
          "name": "stdout",
          "text": [
            "Search query: what is the uses of Machine Learning?\n"
          ]
        },
        {
          "output_type": "stream",
          "name": "stderr",
          "text": [
            "WARNING:neo4j.notifications:Received notification from DBMS server: {severity: WARNING} {code: Neo.ClientNotification.Statement.FeatureDeprecationWarning} {category: DEPRECATION} {title: This feature is deprecated and will be removed in future versions.} {description: CALL subquery without a variable scope clause is now deprecated. Use CALL (node, node) { ... }} {position: line: 6, column: 13, offset: 229} for query: \"\\n            CALL db.index.fulltext.queryNodes('entity', $query, {limit:5})\\n            YIELD node, score\\n            WITH node, score\\n            ORDER BY score DESC  // Ensure the highest scoring results come first\\n            CALL {\\n              WITH node\\n              MATCH (node)-[r:!MENTIONS]->(neighbor)\\n              RETURN node.id + ' - ' + type(r) + ' -> ' + neighbor.id AS output\\n              UNION ALL\\n              WITH node\\n              MATCH (node)<-[r:!MENTIONS]-(neighbor)\\n              RETURN neighbor.id + ' - ' + type(r) + ' -> ' +  node.id AS output\\n            }\\n            RETURN output LIMIT 50\\n            \"\n",
            "ERROR:neo4j.io:Failed to write data to connection ResolvedIPv4Address(('34.126.171.25', 7687)) (ResolvedIPv4Address(('34.126.171.25', 7687)))\n",
            "ERROR:neo4j.io:Failed to write data to connection IPv4Address(('696dddc5.databases.neo4j.io', 7687)) (ResolvedIPv4Address(('34.126.171.25', 7687)))\n",
            "WARNING:neo4j.notifications:Received notification from DBMS server: {severity: WARNING} {code: Neo.ClientNotification.Statement.FeatureDeprecationWarning} {category: DEPRECATION} {title: This feature is deprecated and will be removed in future versions.} {description: CALL subquery without a variable scope clause is now deprecated. Use CALL () { ... }} {position: line: 1, column: 1, offset: 0} for query: \"CALL { CALL db.index.vector.queryNodes($index, $k, $embedding) YIELD node, score WITH collect({node:node, score:score}) AS nodes, max(score) AS max UNWIND nodes AS n RETURN n.node AS node, (n.score / max) AS score UNION CALL db.index.fulltext.queryNodes($keyword_index, $query, {limit: $k}) YIELD node, score WITH collect({node:node, score:score}) AS nodes, max(score) AS max UNWIND nodes AS n RETURN n.node AS node, (n.score / max) AS score } WITH node, max(score) AS score ORDER BY score DESC LIMIT $k RETURN reduce(str='', k IN ['text'] | str + '\\\\n' + k + ': ' + coalesce(node[k], '')) AS text, node {.*, `embedding`: Null, id: Null, `text`: Null} AS metadata, score\"\n"
          ]
        },
        {
          "output_type": "execute_result",
          "data": {
            "text/plain": [
              "'Machine learning is used in various fields such as natural language processing, computer vision, speech recognition, email filtering, agriculture, medicine, and predictive analytics in business.'"
            ],
            "application/vnd.google.colaboratory.intrinsic+json": {
              "type": "string"
            }
          },
          "metadata": {},
          "execution_count": 80
        }
      ]
    },
    {
      "cell_type": "code",
      "source": [],
      "metadata": {
        "id": "7h2hBHsbMWY3"
      },
      "execution_count": null,
      "outputs": []
    }
  ]
}