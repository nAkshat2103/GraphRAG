{
  "nbformat": 4,
  "nbformat_minor": 0,
  "metadata": {
    "colab": {
      "provenance": [],
      "toc_visible": true,
      "authorship_tag": "ABX9TyNo+JAenoVYR0Ezj1i4Go49",
      "include_colab_link": true
    },
    "kernelspec": {
      "name": "python3",
      "display_name": "Python 3"
    },
    "language_info": {
      "name": "python"
    },
    "widgets": {
      "application/vnd.jupyter.widget-state+json": {
        "597312a62ec045e19b375fb46e8cd56a": {
          "model_module": "yfiles-jupyter-graphs",
          "model_name": "GraphModel",
          "model_module_version": "^1.8.1",
          "state": {
            "_context_pane_mapping": [
              {
                "id": "Neighborhood",
                "title": "Neighborhood"
              },
              {
                "id": "Data",
                "title": "Data"
              },
              {
                "id": "Search",
                "title": "Search"
              },
              {
                "id": "About",
                "title": "About"
              }
            ],
            "_data_importer": "neo4j",
            "_directed": true,
            "_dom_classes": [],
            "_edges": [
              {
                "id": 1152922604118474800,
                "start": 1,
                "end": 128,
                "properties": {
                  "label": "BIRTHPLACE"
                },
                "label": "BIRTHPLACE",
                "color": "#2196F3",
                "thickness_factor": 1,
                "directed": true
              },
              {
                "id": 1152923703630102500,
                "start": 1,
                "end": 129,
                "properties": {
                  "label": "CURRENT_LOCATION"
                },
                "label": "CURRENT_LOCATION",
                "color": "#4CAF50",
                "thickness_factor": 1,
                "directed": true
              },
              {
                "id": 1152924803141730300,
                "start": 1,
                "end": 7,
                "properties": {
                  "label": "COMMUNICATION_PREFERENCE"
                },
                "label": "COMMUNICATION_PREFERENCE",
                "color": "#F44336",
                "thickness_factor": 1,
                "directed": true
              },
              {
                "id": 1152925902653358000,
                "start": 1,
                "end": 130,
                "properties": {
                  "label": "PREFERRED_MODE_OF_TRANSPORTATION"
                },
                "label": "PREFERRED_MODE_OF_TRANSPORTATION",
                "color": "#607D8B",
                "thickness_factor": 1,
                "directed": true
              },
              {
                "id": 1152927002164985900,
                "start": 1,
                "end": 9,
                "properties": {
                  "label": "FAVORITE_COLOR"
                },
                "label": "FAVORITE_COLOR",
                "color": "#673AB7",
                "thickness_factor": 1,
                "directed": true
              },
              {
                "id": 1152928101676613600,
                "start": 1,
                "end": 131,
                "properties": {
                  "label": "IMPORTANT_PART_OF_LIFE"
                },
                "label": "IMPORTANT_PART_OF_LIFE",
                "color": "#CDDC39",
                "thickness_factor": 1,
                "directed": true
              },
              {
                "id": 1152929201188241400,
                "start": 1,
                "end": 135,
                "properties": {
                  "label": "CLOSE_TIES"
                },
                "label": "CLOSE_TIES",
                "color": "#9E9E9E",
                "thickness_factor": 1,
                "directed": true
              },
              {
                "id": 1152930300699869200,
                "start": 1,
                "end": 34,
                "properties": {
                  "label": "PROFESSIONAL_INTEREST"
                },
                "label": "PROFESSIONAL_INTEREST",
                "color": "#9C27B0",
                "thickness_factor": 1,
                "directed": true
              },
              {
                "id": 1152931400211497000,
                "start": 1,
                "end": 136,
                "properties": {
                  "label": "ENJOYABLE_ACTIVITY"
                },
                "label": "ENJOYABLE_ACTIVITY",
                "color": "#2196F3",
                "thickness_factor": 1,
                "directed": true
              },
              {
                "id": 1155183200025182200,
                "start": 1,
                "end": 137,
                "properties": {
                  "label": "ENJOYABLE_ACTIVITY"
                },
                "label": "ENJOYABLE_ACTIVITY",
                "color": "#2196F3",
                "thickness_factor": 1,
                "directed": true
              },
              {
                "id": 1152932499723124700,
                "start": 1,
                "end": 50,
                "properties": {
                  "label": "MUSIC_PREFERENCE"
                },
                "label": "MUSIC_PREFERENCE",
                "color": "#4CAF50",
                "thickness_factor": 1,
                "directed": true
              },
              {
                "id": 1155184299536810000,
                "start": 1,
                "end": 51,
                "properties": {
                  "label": "MUSIC_PREFERENCE"
                },
                "label": "MUSIC_PREFERENCE",
                "color": "#4CAF50",
                "thickness_factor": 1,
                "directed": true
              },
              {
                "id": 1157436099350495200,
                "start": 1,
                "end": 52,
                "properties": {
                  "label": "MUSIC_PREFERENCE"
                },
                "label": "MUSIC_PREFERENCE",
                "color": "#4CAF50",
                "thickness_factor": 1,
                "directed": true
              },
              {
                "id": 1152933599234752500,
                "start": 1,
                "end": 53,
                "properties": {
                  "label": "FOOD_PREFERENCE"
                },
                "label": "FOOD_PREFERENCE",
                "color": "#F44336",
                "thickness_factor": 1,
                "directed": true
              },
              {
                "id": 1155185399048437800,
                "start": 1,
                "end": 54,
                "properties": {
                  "label": "FOOD_PREFERENCE"
                },
                "label": "FOOD_PREFERENCE",
                "color": "#F44336",
                "thickness_factor": 1,
                "directed": true
              },
              {
                "id": 1157437198862123000,
                "start": 1,
                "end": 55,
                "properties": {
                  "label": "FOOD_PREFERENCE"
                },
                "label": "FOOD_PREFERENCE",
                "color": "#F44336",
                "thickness_factor": 1,
                "directed": true
              },
              {
                "id": 1152934698746380300,
                "start": 1,
                "end": 56,
                "properties": {
                  "label": "FAVORITE_DINING_PLACE"
                },
                "label": "FAVORITE_DINING_PLACE",
                "color": "#607D8B",
                "thickness_factor": 1,
                "directed": true
              },
              {
                "id": 1155186498560065500,
                "start": 1,
                "end": 57,
                "properties": {
                  "label": "FAVORITE_DINING_PLACE"
                },
                "label": "FAVORITE_DINING_PLACE",
                "color": "#607D8B",
                "thickness_factor": 1,
                "directed": true
              },
              {
                "id": 1152935798258008000,
                "start": 1,
                "end": 58,
                "properties": {
                  "label": "DREAM_DESTINATION"
                },
                "label": "DREAM_DESTINATION",
                "color": "#673AB7",
                "thickness_factor": 1,
                "directed": true
              },
              {
                "id": 1152936897769635800,
                "start": 1,
                "end": 140,
                "properties": {
                  "label": "WEATHER_PREFERENCE"
                },
                "label": "WEATHER_PREFERENCE",
                "color": "#CDDC39",
                "thickness_factor": 1,
                "directed": true
              },
              {
                "id": 1152937997281263600,
                "start": 1,
                "end": 61,
                "properties": {
                  "label": "SELF-DESCRIPTION"
                },
                "label": "SELF-DESCRIPTION",
                "color": "#9E9E9E",
                "thickness_factor": 1,
                "directed": true
              },
              {
                "id": 1152939096792891400,
                "start": 1,
                "end": 62,
                "properties": {
                  "label": "DESCRIBED_BY_FRIENDS"
                },
                "label": "DESCRIBED_BY_FRIENDS",
                "color": "#9C27B0",
                "thickness_factor": 1,
                "directed": true
              },
              {
                "id": 1155190896606576600,
                "start": 1,
                "end": 63,
                "properties": {
                  "label": "DESCRIBED_BY_FRIENDS"
                },
                "label": "DESCRIBED_BY_FRIENDS",
                "color": "#9C27B0",
                "thickness_factor": 1,
                "directed": true
              },
              {
                "id": 1152940196304519200,
                "start": 1,
                "end": 143,
                "properties": {
                  "label": "KEY_PASSION"
                },
                "label": "KEY_PASSION",
                "color": "#2196F3",
                "thickness_factor": 1,
                "directed": true
              },
              {
                "id": 1152941295816147200,
                "start": 147,
                "end": 34,
                "properties": {
                  "label": "INTEREST_IN"
                },
                "label": "INTEREST_IN",
                "color": "#4CAF50",
                "thickness_factor": 1,
                "directed": true
              },
              {
                "id": 1155193095629832400,
                "start": 147,
                "end": 148,
                "properties": {
                  "label": "INTEREST_IN"
                },
                "label": "INTEREST_IN",
                "color": "#4CAF50",
                "thickness_factor": 1,
                "directed": true
              },
              {
                "id": 1157444895443517700,
                "start": 147,
                "end": 149,
                "properties": {
                  "label": "INTEREST_IN"
                },
                "label": "INTEREST_IN",
                "color": "#4CAF50",
                "thickness_factor": 1,
                "directed": true
              },
              {
                "id": 1152942395327775000,
                "start": 147,
                "end": 45,
                "properties": {
                  "label": "MAINTAINS_STRONG_RELATIONSHIPS_WITH"
                },
                "label": "MAINTAINS_STRONG_RELATIONSHIPS_WITH",
                "color": "#F44336",
                "thickness_factor": 1,
                "directed": true
              },
              {
                "id": 1155194195141460200,
                "start": 147,
                "end": 131,
                "properties": {
                  "label": "MAINTAINS_STRONG_RELATIONSHIPS_WITH"
                },
                "label": "MAINTAINS_STRONG_RELATIONSHIPS_WITH",
                "color": "#F44336",
                "thickness_factor": 1,
                "directed": true
              },
              {
                "id": 1152943494839402800,
                "start": 147,
                "end": 150,
                "properties": {
                  "label": "VALUES_BUILDING_RELATIONSHIPS_WITH"
                },
                "label": "VALUES_BUILDING_RELATIONSHIPS_WITH",
                "color": "#607D8B",
                "thickness_factor": 1,
                "directed": true
              },
              {
                "id": 1152944594351030500,
                "start": 147,
                "end": 121,
                "properties": {
                  "label": "ADMIRES"
                },
                "label": "ADMIRES",
                "color": "#673AB7",
                "thickness_factor": 1,
                "directed": true
              }
            ],
            "_graph_layout": {},
            "_highlight": [],
            "_license": {},
            "_model_module": "yfiles-jupyter-graphs",
            "_model_module_version": "^1.8.1",
            "_model_name": "GraphModel",
            "_neighborhood": {},
            "_nodes": [
              {
                "id": 1,
                "properties": {
                  "id": "Akshat Nigam",
                  "label": "Person:__Entity__"
                },
                "color": "#2196F3",
                "styles": {},
                "label": "Akshat Nigam",
                "scale_factor": 1,
                "type": "#2196F3",
                "size": [
                  55,
                  55
                ],
                "position": [
                  0,
                  0
                ]
              },
              {
                "id": 128,
                "properties": {
                  "id": "Kanpur",
                  "label": "Location:__Entity__"
                },
                "color": "#4CAF50",
                "styles": {},
                "label": "Kanpur",
                "scale_factor": 1,
                "type": "#4CAF50",
                "size": [
                  55,
                  55
                ],
                "position": [
                  0,
                  0
                ]
              },
              {
                "id": 129,
                "properties": {
                  "id": "India",
                  "label": "Location:__Entity__"
                },
                "color": "#4CAF50",
                "styles": {},
                "label": "India",
                "scale_factor": 1,
                "type": "#4CAF50",
                "size": [
                  55,
                  55
                ],
                "position": [
                  0,
                  0
                ]
              },
              {
                "id": 7,
                "properties": {
                  "id": "Messaging Apps",
                  "label": "Technology:Communication method:__Entity__"
                },
                "color": "#F44336",
                "styles": {},
                "label": "Messaging Apps",
                "scale_factor": 1,
                "type": "#F44336",
                "size": [
                  55,
                  55
                ],
                "position": [
                  0,
                  0
                ]
              },
              {
                "id": 130,
                "properties": {
                  "id": "Car",
                  "label": "Transportation:__Entity__"
                },
                "color": "#607D8B",
                "styles": {},
                "label": "Car",
                "scale_factor": 1,
                "type": "#607D8B",
                "size": [
                  55,
                  55
                ],
                "position": [
                  0,
                  0
                ]
              },
              {
                "id": 9,
                "properties": {
                  "id": "Black",
                  "label": "Color:__Entity__"
                },
                "color": "#673AB7",
                "styles": {},
                "label": "Black",
                "scale_factor": 1,
                "type": "#673AB7",
                "size": [
                  55,
                  55
                ],
                "position": [
                  0,
                  0
                ]
              },
              {
                "id": 131,
                "properties": {
                  "id": "Family",
                  "label": "Relationship:__Entity__"
                },
                "color": "#CDDC39",
                "styles": {},
                "label": "Family",
                "scale_factor": 1,
                "type": "#CDDC39",
                "size": [
                  55,
                  55
                ],
                "position": [
                  0,
                  0
                ]
              },
              {
                "id": 135,
                "properties": {
                  "id": "Patiala",
                  "label": "Location:__Entity__"
                },
                "color": "#4CAF50",
                "styles": {},
                "label": "Patiala",
                "scale_factor": 1,
                "type": "#4CAF50",
                "size": [
                  55,
                  55
                ],
                "position": [
                  0,
                  0
                ]
              },
              {
                "id": 34,
                "properties": {
                  "id": "Artificial Intelligence",
                  "label": "Interest:__Entity__"
                },
                "color": "#9E9E9E",
                "styles": {},
                "label": "Artificial Intelligence",
                "scale_factor": 1,
                "type": "#9E9E9E",
                "size": [
                  55,
                  55
                ],
                "position": [
                  0,
                  0
                ]
              },
              {
                "id": 136,
                "properties": {
                  "id": "Tv Shows",
                  "label": "Entertainment:__Entity__"
                },
                "color": "#9C27B0",
                "styles": {},
                "label": "Tv Shows",
                "scale_factor": 1,
                "type": "#9C27B0",
                "size": [
                  55,
                  55
                ],
                "position": [
                  0,
                  0
                ]
              },
              {
                "id": 137,
                "properties": {
                  "id": "Movies",
                  "label": "Entertainment:__Entity__"
                },
                "color": "#9C27B0",
                "styles": {},
                "label": "Movies",
                "scale_factor": 1,
                "type": "#9C27B0",
                "size": [
                  55,
                  55
                ],
                "position": [
                  0,
                  0
                ]
              },
              {
                "id": 50,
                "properties": {
                  "id": "Rap",
                  "label": "Music genre:__Entity__"
                },
                "color": "#2196F3",
                "styles": {},
                "label": "Rap",
                "scale_factor": 1,
                "type": "#2196F3",
                "size": [
                  55,
                  55
                ],
                "position": [
                  0,
                  0
                ]
              },
              {
                "id": 51,
                "properties": {
                  "id": "Rnb",
                  "label": "Music genre:__Entity__"
                },
                "color": "#2196F3",
                "styles": {},
                "label": "Rnb",
                "scale_factor": 1,
                "type": "#2196F3",
                "size": [
                  55,
                  55
                ],
                "position": [
                  0,
                  0
                ]
              },
              {
                "id": 52,
                "properties": {
                  "id": "Indie Rock",
                  "label": "Music genre:__Entity__"
                },
                "color": "#2196F3",
                "styles": {},
                "label": "Indie Rock",
                "scale_factor": 1,
                "type": "#2196F3",
                "size": [
                  55,
                  55
                ],
                "position": [
                  0,
                  0
                ]
              },
              {
                "id": 53,
                "properties": {
                  "id": "Chicken Dishes",
                  "label": "Food:__Entity__"
                },
                "color": "#4CAF50",
                "styles": {},
                "label": "Chicken Dishes",
                "scale_factor": 1,
                "type": "#4CAF50",
                "size": [
                  55,
                  55
                ],
                "position": [
                  0,
                  0
                ]
              },
              {
                "id": 54,
                "properties": {
                  "id": "Paneer",
                  "label": "Food:__Entity__"
                },
                "color": "#4CAF50",
                "styles": {},
                "label": "Paneer",
                "scale_factor": 1,
                "type": "#4CAF50",
                "size": [
                  55,
                  55
                ],
                "position": [
                  0,
                  0
                ]
              },
              {
                "id": 55,
                "properties": {
                  "id": "Chole Bhature",
                  "label": "Food:__Entity__"
                },
                "color": "#4CAF50",
                "styles": {},
                "label": "Chole Bhature",
                "scale_factor": 1,
                "type": "#4CAF50",
                "size": [
                  55,
                  55
                ],
                "position": [
                  0,
                  0
                ]
              },
              {
                "id": 56,
                "properties": {
                  "id": "Mantu",
                  "label": "Restaurant:__Entity__"
                },
                "color": "#F44336",
                "styles": {},
                "label": "Mantu",
                "scale_factor": 1,
                "type": "#F44336",
                "size": [
                  55,
                  55
                ],
                "position": [
                  0,
                  0
                ]
              },
              {
                "id": 57,
                "properties": {
                  "id": "Rakesh Biryani",
                  "label": "Restaurant:__Entity__"
                },
                "color": "#F44336",
                "styles": {},
                "label": "Rakesh Biryani",
                "scale_factor": 1,
                "type": "#F44336",
                "size": [
                  55,
                  55
                ],
                "position": [
                  0,
                  0
                ]
              },
              {
                "id": 58,
                "properties": {
                  "id": "Yosemite National Park",
                  "label": "Destination:Travel destination:__Entity__"
                },
                "color": "#607D8B",
                "styles": {},
                "label": "Yosemite National Park",
                "scale_factor": 1,
                "type": "#607D8B",
                "size": [
                  55,
                  55
                ],
                "position": [
                  0,
                  0
                ]
              },
              {
                "id": 140,
                "properties": {
                  "id": "Cold Weather",
                  "label": "Preference:__Entity__"
                },
                "color": "#673AB7",
                "styles": {},
                "label": "Cold Weather",
                "scale_factor": 1,
                "type": "#673AB7",
                "size": [
                  55,
                  55
                ],
                "position": [
                  0,
                  0
                ]
              },
              {
                "id": 61,
                "properties": {
                  "id": "Ambivert",
                  "label": "Personality trait:Personality:__Entity__"
                },
                "color": "#CDDC39",
                "styles": {},
                "label": "Ambivert",
                "scale_factor": 1,
                "type": "#CDDC39",
                "size": [
                  55,
                  55
                ],
                "position": [
                  0,
                  0
                ]
              },
              {
                "id": 62,
                "properties": {
                  "id": "Friendly",
                  "label": "Personality trait:Personality:__Entity__"
                },
                "color": "#CDDC39",
                "styles": {},
                "label": "Friendly",
                "scale_factor": 1,
                "type": "#CDDC39",
                "size": [
                  55,
                  55
                ],
                "position": [
                  0,
                  0
                ]
              },
              {
                "id": 63,
                "properties": {
                  "id": "Caring",
                  "label": "Personality trait:Personality:__Entity__"
                },
                "color": "#CDDC39",
                "styles": {},
                "label": "Caring",
                "scale_factor": 1,
                "type": "#CDDC39",
                "size": [
                  55,
                  55
                ],
                "position": [
                  0,
                  0
                ]
              },
              {
                "id": 143,
                "properties": {
                  "id": "Passions",
                  "label": "Interest:__Entity__"
                },
                "color": "#9E9E9E",
                "styles": {},
                "label": "Passions",
                "scale_factor": 1,
                "type": "#9E9E9E",
                "size": [
                  55,
                  55
                ],
                "position": [
                  0,
                  0
                ]
              },
              {
                "id": 147,
                "properties": {
                  "id": "Akshat",
                  "label": "Person:__Entity__"
                },
                "color": "#2196F3",
                "styles": {},
                "label": "Akshat",
                "scale_factor": 1,
                "type": "#2196F3",
                "size": [
                  55,
                  55
                ],
                "position": [
                  0,
                  0
                ]
              },
              {
                "id": 148,
                "properties": {
                  "id": "Different Cultures",
                  "label": "Interest:__Entity__"
                },
                "color": "#9E9E9E",
                "styles": {},
                "label": "Different Cultures",
                "scale_factor": 1,
                "type": "#9E9E9E",
                "size": [
                  55,
                  55
                ],
                "position": [
                  0,
                  0
                ]
              },
              {
                "id": 149,
                "properties": {
                  "id": "New People",
                  "label": "Interest:__Entity__"
                },
                "color": "#9E9E9E",
                "styles": {},
                "label": "New People",
                "scale_factor": 1,
                "type": "#9E9E9E",
                "size": [
                  55,
                  55
                ],
                "position": [
                  0,
                  0
                ]
              },
              {
                "id": 45,
                "properties": {
                  "id": "Friends",
                  "label": "Tv show:Relationship:__Entity__"
                },
                "color": "#9E9E9E",
                "styles": {},
                "label": "Friends",
                "scale_factor": 1,
                "type": "#9E9E9E",
                "size": [
                  55,
                  55
                ],
                "position": [
                  0,
                  0
                ]
              },
              {
                "id": 150,
                "properties": {
                  "id": "Colleagues",
                  "label": "Relationship:__Entity__"
                },
                "color": "#CDDC39",
                "styles": {},
                "label": "Colleagues",
                "scale_factor": 1,
                "type": "#CDDC39",
                "size": [
                  55,
                  55
                ],
                "position": [
                  0,
                  0
                ]
              },
              {
                "id": 121,
                "properties": {
                  "id": "Sunil Chhetri",
                  "label": "Athlete:Sports personality:__Entity__"
                },
                "color": "#9C27B0",
                "styles": {},
                "label": "Sunil Chhetri",
                "scale_factor": 1,
                "type": "#9C27B0",
                "size": [
                  55,
                  55
                ],
                "position": [
                  0,
                  0
                ]
              }
            ],
            "_overview": {
              "enabled": null,
              "overview_set": false
            },
            "_selected_graph": [
              [],
              []
            ],
            "_sidebar": {
              "enabled": false,
              "start_with": null
            },
            "_view_count": null,
            "_view_module": "yfiles-jupyter-graphs",
            "_view_module_version": "^1.8.1",
            "_view_name": "GraphView",
            "layout": "IPY_MODEL_a1cef8f46b2e4f58b8552c02be57d433",
            "tabbable": null,
            "tooltip": null
          }
        },
        "a1cef8f46b2e4f58b8552c02be57d433": {
          "model_module": "@jupyter-widgets/base",
          "model_name": "LayoutModel",
          "model_module_version": "2.0.0",
          "state": {
            "_model_module": "@jupyter-widgets/base",
            "_model_module_version": "2.0.0",
            "_model_name": "LayoutModel",
            "_view_count": null,
            "_view_module": "@jupyter-widgets/base",
            "_view_module_version": "2.0.0",
            "_view_name": "LayoutView",
            "align_content": null,
            "align_items": null,
            "align_self": null,
            "border_bottom": null,
            "border_left": null,
            "border_right": null,
            "border_top": null,
            "bottom": null,
            "display": null,
            "flex": null,
            "flex_flow": null,
            "grid_area": null,
            "grid_auto_columns": null,
            "grid_auto_flow": null,
            "grid_auto_rows": null,
            "grid_column": null,
            "grid_gap": null,
            "grid_row": null,
            "grid_template_areas": null,
            "grid_template_columns": null,
            "grid_template_rows": null,
            "height": "800px",
            "justify_content": null,
            "justify_items": null,
            "left": null,
            "margin": null,
            "max_height": null,
            "max_width": null,
            "min_height": null,
            "min_width": null,
            "object_fit": null,
            "object_position": null,
            "order": null,
            "overflow": null,
            "padding": null,
            "right": null,
            "top": null,
            "visibility": null,
            "width": "100%"
          }
        }
      }
    }
  },
  "cells": [
    {
      "cell_type": "markdown",
      "metadata": {
        "id": "view-in-github",
        "colab_type": "text"
      },
      "source": [
        "<a href=\"https://colab.research.google.com/github/nAkshat2103/GraphRAG/blob/main/PersonalAI.ipynb\" target=\"_parent\"><img src=\"https://colab.research.google.com/assets/colab-badge.svg\" alt=\"Open In Colab\"/></a>"
      ]
    },
    {
      "cell_type": "markdown",
      "source": [
        "Simple Implementation of Graph Based Retrieval Augmented Generation using Neo4J and Langchain\n"
      ],
      "metadata": {
        "id": "HKXDZkX3GuKD"
      }
    },
    {
      "cell_type": "code",
      "execution_count": null,
      "metadata": {
        "id": "yduaXiG_hgeu",
        "colab": {
          "base_uri": "https://localhost:8080/"
        },
        "outputId": "9f905a08-2e89-4d72-9288-c5993268ffbc"
      },
      "outputs": [
        {
          "output_type": "stream",
          "name": "stdout",
          "text": [
            "  Preparing metadata (setup.py) ... \u001b[?25l\u001b[?25hdone\n",
            "\u001b[2K     \u001b[90m━━━━━━━━━━━━━━━━━━━━━━━━━━━━━━━━━━━━━━━━\u001b[0m \u001b[32m50.4/50.4 kB\u001b[0m \u001b[31m1.1 MB/s\u001b[0m eta \u001b[36m0:00:00\u001b[0m\n",
            "\u001b[2K   \u001b[90m━━━━━━━━━━━━━━━━━━━━━━━━━━━━━━━━━━━━━━━━\u001b[0m \u001b[32m1.0/1.0 MB\u001b[0m \u001b[31m23.9 MB/s\u001b[0m eta \u001b[36m0:00:00\u001b[0m\n",
            "\u001b[2K   \u001b[90m━━━━━━━━━━━━━━━━━━━━━━━━━━━━━━━━━━━━━━━━\u001b[0m \u001b[32m2.3/2.3 MB\u001b[0m \u001b[31m45.4 MB/s\u001b[0m eta \u001b[36m0:00:00\u001b[0m\n",
            "\u001b[2K   \u001b[90m━━━━━━━━━━━━━━━━━━━━━━━━━━━━━━━━━━━━━━━━\u001b[0m \u001b[32m52.0/52.0 kB\u001b[0m \u001b[31m2.9 MB/s\u001b[0m eta \u001b[36m0:00:00\u001b[0m\n",
            "\u001b[2K   \u001b[90m━━━━━━━━━━━━━━━━━━━━━━━━━━━━━━━━━━━━━━━━\u001b[0m \u001b[32m207.2/207.2 kB\u001b[0m \u001b[31m7.1 MB/s\u001b[0m eta \u001b[36m0:00:00\u001b[0m\n",
            "\u001b[2K   \u001b[90m━━━━━━━━━━━━━━━━━━━━━━━━━━━━━━━━━━━━━━━━\u001b[0m \u001b[32m294.6/294.6 kB\u001b[0m \u001b[31m10.0 MB/s\u001b[0m eta \u001b[36m0:00:00\u001b[0m\n",
            "\u001b[2K   \u001b[90m━━━━━━━━━━━━━━━━━━━━━━━━━━━━━━━━━━━━━━━━\u001b[0m \u001b[32m1.1/1.1 MB\u001b[0m \u001b[31m25.3 MB/s\u001b[0m eta \u001b[36m0:00:00\u001b[0m\n",
            "\u001b[2K   \u001b[90m━━━━━━━━━━━━━━━━━━━━━━━━━━━━━━━━━━━━━━━━\u001b[0m \u001b[32m15.6/15.6 MB\u001b[0m \u001b[31m78.0 MB/s\u001b[0m eta \u001b[36m0:00:00\u001b[0m\n",
            "\u001b[2K   \u001b[90m━━━━━━━━━━━━━━━━━━━━━━━━━━━━━━━━━━━━━━━━\u001b[0m \u001b[32m139.8/139.8 kB\u001b[0m \u001b[31m8.9 MB/s\u001b[0m eta \u001b[36m0:00:00\u001b[0m\n",
            "\u001b[2K   \u001b[90m━━━━━━━━━━━━━━━━━━━━━━━━━━━━━━━━━━━━━━━━\u001b[0m \u001b[32m396.4/396.4 kB\u001b[0m \u001b[31m23.5 MB/s\u001b[0m eta \u001b[36m0:00:00\u001b[0m\n",
            "\u001b[2K   \u001b[90m━━━━━━━━━━━━━━━━━━━━━━━━━━━━━━━━━━━━━━━━\u001b[0m \u001b[32m290.5/290.5 kB\u001b[0m \u001b[31m17.3 MB/s\u001b[0m eta \u001b[36m0:00:00\u001b[0m\n",
            "\u001b[2K   \u001b[90m━━━━━━━━━━━━━━━━━━━━━━━━━━━━━━━━━━━━━━━━\u001b[0m \u001b[32m373.5/373.5 kB\u001b[0m \u001b[31m18.9 MB/s\u001b[0m eta \u001b[36m0:00:00\u001b[0m\n",
            "\u001b[2K   \u001b[90m━━━━━━━━━━━━━━━━━━━━━━━━━━━━━━━━━━━━━━━━\u001b[0m \u001b[32m76.4/76.4 kB\u001b[0m \u001b[31m4.8 MB/s\u001b[0m eta \u001b[36m0:00:00\u001b[0m\n",
            "\u001b[2K   \u001b[90m━━━━━━━━━━━━━━━━━━━━━━━━━━━━━━━━━━━━━━━━\u001b[0m \u001b[32m77.9/77.9 kB\u001b[0m \u001b[31m4.4 MB/s\u001b[0m eta \u001b[36m0:00:00\u001b[0m\n",
            "\u001b[2K   \u001b[90m━━━━━━━━━━━━━━━━━━━━━━━━━━━━━━━━━━━━━━━━\u001b[0m \u001b[32m318.9/318.9 kB\u001b[0m \u001b[31m16.4 MB/s\u001b[0m eta \u001b[36m0:00:00\u001b[0m\n",
            "\u001b[2K   \u001b[90m━━━━━━━━━━━━━━━━━━━━━━━━━━━━━━━━━━━━━━━━\u001b[0m \u001b[32m49.3/49.3 kB\u001b[0m \u001b[31m3.0 MB/s\u001b[0m eta \u001b[36m0:00:00\u001b[0m\n",
            "\u001b[2K   \u001b[90m━━━━━━━━━━━━━━━━━━━━━━━━━━━━━━━━━━━━━━━━\u001b[0m \u001b[32m141.9/141.9 kB\u001b[0m \u001b[31m9.0 MB/s\u001b[0m eta \u001b[36m0:00:00\u001b[0m\n",
            "\u001b[2K   \u001b[90m━━━━━━━━━━━━━━━━━━━━━━━━━━━━━━━━━━━━━━━━\u001b[0m \u001b[32m2.3/2.3 MB\u001b[0m \u001b[31m58.3 MB/s\u001b[0m eta \u001b[36m0:00:00\u001b[0m\n",
            "\u001b[2K   \u001b[90m━━━━━━━━━━━━━━━━━━━━━━━━━━━━━━━━━━━━━━━━\u001b[0m \u001b[32m58.3/58.3 kB\u001b[0m \u001b[31m3.7 MB/s\u001b[0m eta \u001b[36m0:00:00\u001b[0m\n",
            "\u001b[?25h  Building wheel for wikipedia (setup.py) ... \u001b[?25l\u001b[?25hdone\n"
          ]
        }
      ],
      "source": [
        "%pip install --upgrade --quiet langchain langchain-community langchain-openai langchain-experimental neo4j wikipedia tiktoken yfiles_jupyter_graphs langchain_groq\n"
      ]
    },
    {
      "cell_type": "code",
      "source": [],
      "metadata": {
        "id": "WTt66MmXqnZi"
      },
      "execution_count": null,
      "outputs": []
    },
    {
      "cell_type": "code",
      "source": [
        "from google.colab import userdata\n",
        "openaiapi= userdata.get(\"openai\")"
      ],
      "metadata": {
        "id": "3REfEUdTh0rX"
      },
      "execution_count": null,
      "outputs": []
    },
    {
      "cell_type": "code",
      "source": [
        "NEO4J_URI=\"neo4j+s://696dddc5.databases.neo4j.io\"\n",
        "NEO4J_USERNAME=\"neo4j\"\n",
        "NEO4J_PASSWORD=\"Qi4fFF5k8hhm3ZFuNXBdjztH35pdFZ6kje4Ti2VwVfY\""
      ],
      "metadata": {
        "id": "d2RsweHLZjh3"
      },
      "execution_count": null,
      "outputs": []
    },
    {
      "cell_type": "code",
      "source": [
        "import os\n",
        "os.environ[\"OPENAI_API_KEY\"]=openaiapi\n",
        "os.environ[\"NEO4J_URI\"]=NEO4J_URI\n",
        "os.environ[\"NEO4J_USERNAME\"]=NEO4J_USERNAME\n",
        "os.environ[\"NEO4J_PASSWORD\"]=NEO4J_PASSWORD"
      ],
      "metadata": {
        "id": "7WaSBW36nxA6"
      },
      "execution_count": null,
      "outputs": []
    },
    {
      "cell_type": "code",
      "source": [
        "from langchain_community.graphs import Neo4jGraph\n",
        "graph = Neo4jGraph()"
      ],
      "metadata": {
        "id": "wD77DkLIjmXn"
      },
      "execution_count": null,
      "outputs": []
    },
    {
      "cell_type": "code",
      "source": [
        "from langchain_openai import ChatOpenAI\n",
        "llm=ChatOpenAI(temperature=0.9, model_name=\"gpt-3.5-turbo-0125\")"
      ],
      "metadata": {
        "id": "Rp801zAIj4Iq"
      },
      "execution_count": null,
      "outputs": []
    },
    {
      "cell_type": "code",
      "source": [
        "\"\"\"from langchain_experimental.graph_transformers import LLMGraphTransformer\n",
        "llmt=LLMGraphTransformer(llm=llm)\"\"\""
      ],
      "metadata": {
        "id": "AEEhQg83s53V",
        "colab": {
          "base_uri": "https://localhost:8080/",
          "height": 35
        },
        "outputId": "7ed939de-699b-4546-d1dc-a379e6deba3d"
      },
      "execution_count": null,
      "outputs": [
        {
          "output_type": "execute_result",
          "data": {
            "text/plain": [
              "'from langchain_experimental.graph_transformers import LLMGraphTransformer\\nllmt=LLMGraphTransformer(llm=llm)'"
            ],
            "application/vnd.google.colaboratory.intrinsic+json": {
              "type": "string"
            }
          },
          "metadata": {},
          "execution_count": 7
        }
      ]
    },
    {
      "cell_type": "code",
      "source": [
        "\"\"\"f = open('/content/abc.txt')\n",
        "content = f.read()\n",
        "f.close()\n",
        "\"\"\"\n"
      ],
      "metadata": {
        "id": "zRkomzWxkBTG",
        "colab": {
          "base_uri": "https://localhost:8080/",
          "height": 35
        },
        "outputId": "a90afe6a-f2fa-4223-b350-35d7d45c33df"
      },
      "execution_count": null,
      "outputs": [
        {
          "output_type": "execute_result",
          "data": {
            "text/plain": [
              "\"f = open('/content/abc.txt')\\ncontent = f.read()\\nf.close()\\n\""
            ],
            "application/vnd.google.colaboratory.intrinsic+json": {
              "type": "string"
            }
          },
          "metadata": {},
          "execution_count": 8
        }
      ]
    },
    {
      "cell_type": "code",
      "source": [
        "\"\"\"from langchain.schema import Document\n",
        "doc=Document(page_content=content)\"\"\""
      ],
      "metadata": {
        "id": "MmvH1EOFaCk9",
        "colab": {
          "base_uri": "https://localhost:8080/",
          "height": 35
        },
        "outputId": "41f48947-88a4-42d3-bfd4-76536f8c1e13"
      },
      "execution_count": null,
      "outputs": [
        {
          "output_type": "execute_result",
          "data": {
            "text/plain": [
              "'from langchain.schema import Document\\ndoc=Document(page_content=content)'"
            ],
            "application/vnd.google.colaboratory.intrinsic+json": {
              "type": "string"
            }
          },
          "metadata": {},
          "execution_count": 9
        }
      ]
    },
    {
      "cell_type": "code",
      "source": [
        "\"\"\"from langchain.text_splitter import TokenTextSplitter\n",
        "tokensplitter= TokenTextSplitter(chunk_size=512,chunk_overlap=24)\n",
        "docs= tokensplitter.split_documents([doc])\"\"\""
      ],
      "metadata": {
        "id": "u6yLBPTzmNd5",
        "colab": {
          "base_uri": "https://localhost:8080/",
          "height": 53
        },
        "outputId": "d31f1fa1-27d0-4ef2-826e-9d532401146e"
      },
      "execution_count": null,
      "outputs": [
        {
          "output_type": "execute_result",
          "data": {
            "text/plain": [
              "'from langchain.text_splitter import TokenTextSplitter\\ntokensplitter= TokenTextSplitter(chunk_size=512,chunk_overlap=24)\\ndocs= tokensplitter.split_documents([doc])'"
            ],
            "application/vnd.google.colaboratory.intrinsic+json": {
              "type": "string"
            }
          },
          "metadata": {},
          "execution_count": 10
        }
      ]
    },
    {
      "cell_type": "code",
      "source": [
        "\"\"\"graph_docs=llmt.convert_to_graph_documents(docs)\"\"\""
      ],
      "metadata": {
        "id": "ITDh-OXro7DY",
        "colab": {
          "base_uri": "https://localhost:8080/",
          "height": 35
        },
        "outputId": "14033ad7-9762-4ba0-9467-e1cdbedeee00"
      },
      "execution_count": null,
      "outputs": [
        {
          "output_type": "execute_result",
          "data": {
            "text/plain": [
              "'graph_docs=llmt.convert_to_graph_documents(docs)'"
            ],
            "application/vnd.google.colaboratory.intrinsic+json": {
              "type": "string"
            }
          },
          "metadata": {},
          "execution_count": 11
        }
      ]
    },
    {
      "cell_type": "code",
      "source": [
        "\"\"\"graph.add_graph_documents(\n",
        "    graph_docs,\n",
        "    baseEntityLabel=True,\n",
        "    include_source=True)\n",
        "\"\"\""
      ],
      "metadata": {
        "id": "WhWFiFV1thhM",
        "colab": {
          "base_uri": "https://localhost:8080/",
          "height": 35
        },
        "outputId": "6d37abb1-028f-414a-ec68-1b65e9588b52"
      },
      "execution_count": null,
      "outputs": [
        {
          "output_type": "execute_result",
          "data": {
            "text/plain": [
              "'graph.add_graph_documents(\\n    graph_docs,\\n    baseEntityLabel=True,\\n    include_source=True)\\n'"
            ],
            "application/vnd.google.colaboratory.intrinsic+json": {
              "type": "string"
            }
          },
          "metadata": {},
          "execution_count": 12
        }
      ]
    },
    {
      "cell_type": "code",
      "source": [
        "default_cypher = \"MATCH (s)-[r:!MENTIONS]->(t) RETURN s,r,t LIMIT 50\"\n"
      ],
      "metadata": {
        "id": "VhQOn9KIm76q"
      },
      "execution_count": null,
      "outputs": []
    },
    {
      "cell_type": "code",
      "source": [
        "from yfiles_jupyter_graphs import GraphWidget\n",
        "from neo4j import GraphDatabase"
      ],
      "metadata": {
        "id": "ntAWOVoBnMO8"
      },
      "execution_count": null,
      "outputs": []
    },
    {
      "cell_type": "code",
      "source": [
        "from google.colab import output\n",
        "output.enable_custom_widget_manager()"
      ],
      "metadata": {
        "id": "29YJQuI3sRb8"
      },
      "execution_count": null,
      "outputs": []
    },
    {
      "cell_type": "code",
      "source": [
        "def showGraph(cypher: str = default_cypher):\n",
        "    # create a neo4j session to run queries\n",
        "    driver = GraphDatabase.driver(\n",
        "        uri = os.environ[\"NEO4J_URI\"],\n",
        "        auth = (os.environ[\"NEO4J_USERNAME\"],\n",
        "                os.environ[\"NEO4J_PASSWORD\"]))\n",
        "    session = driver.session()\n",
        "    widget = GraphWidget(graph = session.run(cypher).graph())\n",
        "    widget.node_label_mapping = 'id'\n",
        "    display(widget)\n",
        "    return widget"
      ],
      "metadata": {
        "id": "yE3rhX4isdNl"
      },
      "execution_count": null,
      "outputs": []
    },
    {
      "cell_type": "code",
      "source": [
        "showGraph()"
      ],
      "metadata": {
        "colab": {
          "base_uri": "https://localhost:8080/",
          "height": 1000,
          "referenced_widgets": [
            "597312a62ec045e19b375fb46e8cd56a",
            "a1cef8f46b2e4f58b8552c02be57d433"
          ]
        },
        "id": "Ttdg8WkusxAV",
        "outputId": "e0ecf43f-439a-4975-b7b2-e82bddadeaee"
      },
      "execution_count": null,
      "outputs": [
        {
          "output_type": "display_data",
          "data": {
            "text/plain": [
              "GraphWidget(layout=Layout(height='800px', width='100%'))"
            ],
            "application/vnd.jupyter.widget-view+json": {
              "version_major": 2,
              "version_minor": 0,
              "model_id": "597312a62ec045e19b375fb46e8cd56a"
            }
          },
          "metadata": {
            "application/vnd.jupyter.widget-view+json": {
              "colab": {
                "custom_widget_manager": {
                  "url": "https://ssl.gstatic.com/colaboratory-static/widgets/colab-cdn-widget-manager/2b70e893a8ba7c0f/manager.min.js"
                }
              }
            }
          }
        },
        {
          "output_type": "display_data",
          "data": {
            "text/plain": [
              "GraphWidget(layout=Layout(height='800px', width='100%'))"
            ],
            "application/vnd.jupyter.widget-view+json": {
              "version_major": 2,
              "version_minor": 0,
              "model_id": "597312a62ec045e19b375fb46e8cd56a"
            }
          },
          "metadata": {
            "application/vnd.jupyter.widget-view+json": {
              "colab": {
                "custom_widget_manager": {
                  "url": "https://ssl.gstatic.com/colaboratory-static/widgets/colab-cdn-widget-manager/2b70e893a8ba7c0f/manager.min.js"
                }
              }
            }
          }
        }
      ]
    },
    {
      "cell_type": "code",
      "source": [
        "from typing import Tuple, List, Optional\n",
        "from langchain_community.vectorstores import Neo4jVector"
      ],
      "metadata": {
        "id": "3Duknbnss00-"
      },
      "execution_count": null,
      "outputs": []
    },
    {
      "cell_type": "code",
      "source": [
        "from langchain_openai import OpenAIEmbeddings\n",
        "vector_index= Neo4jVector.from_existing_graph(\n",
        "    OpenAIEmbeddings(),\n",
        "    search_type=\"hybrid\",\n",
        "    node_label=\"Document\",\n",
        "    text_node_properties=[\"text\"],\n",
        "    embedding_node_property=\"embedding\",\n",
        "    url=os.environ[\"NEO4J_URI\"],\n",
        "    username=os.environ[\"NEO4J_USERNAME\"],\n",
        "    password=os.environ[\"NEO4J_PASSWORD\"]\n",
        ")"
      ],
      "metadata": {
        "id": "iuwcXXiAtBGx"
      },
      "execution_count": null,
      "outputs": []
    },
    {
      "cell_type": "code",
      "source": [
        "graph.query(\"CREATE FULLTEXT INDEX entity IF NOT EXISTS FOR (e:__Entity__) ON EACH [e.id]\")"
      ],
      "metadata": {
        "colab": {
          "base_uri": "https://localhost:8080/"
        },
        "id": "cwrGyXuIulqp",
        "outputId": "66ab3802-3adc-4024-ba6c-66514a1b6f2b"
      },
      "execution_count": null,
      "outputs": [
        {
          "output_type": "execute_result",
          "data": {
            "text/plain": [
              "[]"
            ]
          },
          "metadata": {},
          "execution_count": 20
        }
      ]
    },
    {
      "cell_type": "code",
      "source": [
        "from langchain_core.pydantic_v1 import BaseModel,Field\n",
        "\n",
        "class Entities(BaseModel):\n",
        "  \"\"\"Idetifying Information about Entities\"\"\"\n",
        "\n",
        "  names: List[str] = Field(\n",
        "      ...,\n",
        "      description =\"All the person, organization or business entities that appear in the text\"\n",
        "  )"
      ],
      "metadata": {
        "id": "ayj9zt-9u3gF"
      },
      "execution_count": null,
      "outputs": []
    },
    {
      "cell_type": "code",
      "source": [
        "from langchain_core.prompts import ChatPromptTemplate\n",
        "from langchain_core.prompts.prompt import PromptTemplate"
      ],
      "metadata": {
        "id": "Fa2OeVhgyr_0"
      },
      "execution_count": null,
      "outputs": []
    },
    {
      "cell_type": "code",
      "source": [
        "\n",
        "prompt = ChatPromptTemplate.from_messages(\n",
        "    [\n",
        "        (\n",
        "            \"system\",\n",
        "            \"You are extracting organization and person entites from the text.\",\n",
        "        ),\n",
        "        (\n",
        "            \"human\",\n",
        "            \"Use the given format to extact information from the following\"\n",
        "            \"input: {question}\",\n",
        "        ),\n",
        "    ]\n",
        ")"
      ],
      "metadata": {
        "id": "zgLYPoRkzJUj"
      },
      "execution_count": null,
      "outputs": []
    },
    {
      "cell_type": "code",
      "source": [
        "entity_chain = prompt | llm.with_structured_output(Entities)"
      ],
      "metadata": {
        "id": "kce2mnV8z3lG"
      },
      "execution_count": null,
      "outputs": []
    },
    {
      "cell_type": "code",
      "source": [
        "entity_chain.invoke({\"question\": \"  Peter Thiel is the founder of PayPal and Founder Fund\"}).names"
      ],
      "metadata": {
        "colab": {
          "base_uri": "https://localhost:8080/"
        },
        "id": "cCMlTDmh09k4",
        "outputId": "019df895-7e75-4abe-f9d4-3eedef31dd49"
      },
      "execution_count": null,
      "outputs": [
        {
          "output_type": "execute_result",
          "data": {
            "text/plain": [
              "['Peter Thiel', 'PayPal', 'Founder Fund']"
            ]
          },
          "metadata": {},
          "execution_count": 25
        }
      ]
    },
    {
      "cell_type": "code",
      "source": [
        "from langchain_community.vectorstores.neo4j_vector import remove_lucene_chars"
      ],
      "metadata": {
        "id": "QBtd7ZDd4P5X"
      },
      "execution_count": null,
      "outputs": []
    },
    {
      "cell_type": "code",
      "source": [
        "from typing import List\n",
        "\n",
        "def gen_full_query(input: str, use_fuzzy: bool = False, operator: str = \"AND\") -> str:\n",
        "    full_text_query = \"\"\n",
        "    cleaned_input = remove_lucene_chars(input).strip()\n",
        "    if not cleaned_input:\n",
        "        return full_text_query\n",
        "\n",
        "    words = cleaned_input.split()\n",
        "\n",
        "    if len(words) > 1:\n",
        "        phrase = f'\"{cleaned_input}\"'\n",
        "        full_text_query += phrase + \" \"\n",
        "\n",
        "    for word in words[:-1]:\n",
        "        full_text_query += f\"{word} \" if not use_fuzzy else f\"{word}~ {operator} \"\n",
        "\n",
        "    last_word = words[-1]\n",
        "    full_text_query += f\"{last_word}~\" if use_fuzzy and len(last_word) > 2 else last_word\n",
        "\n",
        "    return full_text_query.strip()\n",
        "\n"
      ],
      "metadata": {
        "id": "YX_BmiK32MwE"
      },
      "execution_count": null,
      "outputs": []
    },
    {
      "cell_type": "code",
      "source": [
        "def structured_retriever(question: str) -> str:\n",
        "    result = \"\"\n",
        "    entities = entity_chain.invoke({\"question\": question})\n",
        "    for entity in entities.names:\n",
        "        response = graph.query(\n",
        "            \"\"\"\n",
        "            CALL db.index.fulltext.queryNodes('entity', $query, {limit:5})\n",
        "            YIELD node, score\n",
        "            WITH node, score\n",
        "            ORDER BY score DESC  // Ensure the highest scoring results come first\n",
        "            CALL {\n",
        "              WITH node\n",
        "              MATCH (node)-[r:!MENTIONS]->(neighbor)\n",
        "              RETURN node.id + ' - ' + type(r) + ' -> ' + neighbor.id AS output\n",
        "              UNION ALL\n",
        "              WITH node\n",
        "              MATCH (node)<-[r:!MENTIONS]-(neighbor)\n",
        "              RETURN neighbor.id + ' - ' + type(r) + ' -> ' +  node.id AS output\n",
        "            }\n",
        "            RETURN output LIMIT 50\n",
        "            \"\"\",\n",
        "            {\"query\": gen_full_query(entity, use_fuzzy=False)},\n",
        "        )\n",
        "        result += \"\\n\".join([el['output'] for el in response])\n",
        "    return result\n",
        "\n"
      ],
      "metadata": {
        "id": "-qRJysmv39Ep"
      },
      "execution_count": null,
      "outputs": []
    },
    {
      "cell_type": "code",
      "source": [
        "\n",
        "print(structured_retriever(\"Akshat Nigam\"))"
      ],
      "metadata": {
        "colab": {
          "base_uri": "https://localhost:8080/"
        },
        "id": "Cx6SQ2q64Azu",
        "outputId": "5de3657a-bd3b-4a49-937b-6a908396cc4f"
      },
      "execution_count": null,
      "outputs": [
        {
          "output_type": "stream",
          "name": "stderr",
          "text": [
            "WARNING:neo4j.notifications:Received notification from DBMS server: {severity: WARNING} {code: Neo.ClientNotification.Statement.FeatureDeprecationWarning} {category: DEPRECATION} {title: This feature is deprecated and will be removed in future versions.} {description: CALL subquery without a variable scope clause is now deprecated. Use CALL (node, node) { ... }} {position: line: 6, column: 13, offset: 229} for query: \"\\n            CALL db.index.fulltext.queryNodes('entity', $query, {limit:5})\\n            YIELD node, score\\n            WITH node, score\\n            ORDER BY score DESC  // Ensure the highest scoring results come first\\n            CALL {\\n              WITH node\\n              MATCH (node)-[r:!MENTIONS]->(neighbor)\\n              RETURN node.id + ' - ' + type(r) + ' -> ' + neighbor.id AS output\\n              UNION ALL\\n              WITH node\\n              MATCH (node)<-[r:!MENTIONS]-(neighbor)\\n              RETURN neighbor.id + ' - ' + type(r) + ' -> ' +  node.id AS output\\n            }\\n            RETURN output LIMIT 50\\n            \"\n"
          ]
        },
        {
          "output_type": "stream",
          "name": "stdout",
          "text": [
            "Akshat Nigam - BIRTHPLACE -> Kanpur\n",
            "Akshat Nigam - CURRENT_LOCATION -> India\n",
            "Akshat Nigam - COMMUNICATION_PREFERENCE -> Messaging Apps\n",
            "Akshat Nigam - PREFERRED_MODE_OF_TRANSPORTATION -> Car\n",
            "Akshat Nigam - FAVORITE_COLOR -> Black\n",
            "Akshat Nigam - IMPORTANT_PART_OF_LIFE -> Family\n",
            "Akshat Nigam - CLOSE_TIES -> Patiala\n",
            "Akshat Nigam - PROFESSIONAL_INTEREST -> Artificial Intelligence\n",
            "Akshat Nigam - ENJOYABLE_ACTIVITY -> Tv Shows\n",
            "Akshat Nigam - ENJOYABLE_ACTIVITY -> Movies\n",
            "Akshat Nigam - MUSIC_PREFERENCE -> Rap\n",
            "Akshat Nigam - MUSIC_PREFERENCE -> Rnb\n",
            "Akshat Nigam - MUSIC_PREFERENCE -> Indie Rock\n",
            "Akshat Nigam - FOOD_PREFERENCE -> Chicken Dishes\n",
            "Akshat Nigam - FOOD_PREFERENCE -> Paneer\n",
            "Akshat Nigam - FOOD_PREFERENCE -> Chole Bhature\n",
            "Akshat Nigam - FAVORITE_DINING_PLACE -> Mantu\n",
            "Akshat Nigam - FAVORITE_DINING_PLACE -> Rakesh Biryani\n",
            "Akshat Nigam - DREAM_DESTINATION -> Yosemite National Park\n",
            "Akshat Nigam - WEATHER_PREFERENCE -> Cold Weather\n",
            "Akshat Nigam - SELF-DESCRIPTION -> Ambivert\n",
            "Akshat Nigam - DESCRIBED_BY_FRIENDS -> Friendly\n",
            "Akshat Nigam - DESCRIBED_BY_FRIENDS -> Caring\n",
            "Akshat Nigam - KEY_PASSION -> Passions\n",
            "Akshat - INTEREST_IN -> Artificial Intelligence\n",
            "Akshat - INTEREST_IN -> Different Cultures\n",
            "Akshat - INTEREST_IN -> New People\n",
            "Akshat - MAINTAINS_STRONG_RELATIONSHIPS_WITH -> Friends\n",
            "Akshat - MAINTAINS_STRONG_RELATIONSHIPS_WITH -> Family\n",
            "Akshat - VALUES_BUILDING_RELATIONSHIPS_WITH -> Colleagues\n",
            "Akshat - ADMIRES -> Sunil Chhetri\n"
          ]
        }
      ]
    },
    {
      "cell_type": "code",
      "source": [
        "def retriever(question: str):\n",
        "    print(f\"Search query: {question}\")\n",
        "    structured_data = structured_retriever(question)\n",
        "    unstructured_data = [el.page_content for el in vector_index.similarity_search(question)]\n",
        "    final_data = f\"\"\"Structured data:\n",
        "{structured_data}\n",
        "Unstructured data:\n",
        "{\"#Document \". join(unstructured_data)}\n",
        "    \"\"\"\n",
        "    return final_data\n"
      ],
      "metadata": {
        "id": "Dt_ds_kp4D9m"
      },
      "execution_count": null,
      "outputs": []
    },
    {
      "cell_type": "code",
      "source": [
        "_template = \"\"\"Given the following conversation and a follow up question, rephrase the follow up question to be a standalone question,\n",
        "in its original language.\n",
        "Chat History:\n",
        "{chat_history}\n",
        "Follow Up Input: {question}\n",
        "Standalone question:\"\"\""
      ],
      "metadata": {
        "id": "y0hasm7JJz4d"
      },
      "execution_count": null,
      "outputs": []
    },
    {
      "cell_type": "code",
      "source": [
        "CONDENSE_QUESTION_PROMPT = PromptTemplate.from_template(_template)"
      ],
      "metadata": {
        "id": "aCOLnSCrJ3eM"
      },
      "execution_count": null,
      "outputs": []
    },
    {
      "cell_type": "code",
      "source": [
        "def _format_chat_history(chat_history: List[Tuple[str, str]]) -> List:\n",
        "    buffer = []\n",
        "    for human, ai in chat_history:\n",
        "        buffer.append(HumanMessage(content=human))\n",
        "        buffer.append(AIMessage(content=ai))\n",
        "    return buffer"
      ],
      "metadata": {
        "id": "x5vjaRKVJ7Mx"
      },
      "execution_count": null,
      "outputs": []
    },
    {
      "cell_type": "code",
      "source": [
        "from langchain_core.runnables import RunnableBranch, RunnableLambda,RunnablePassthrough\n",
        "from langchain_core.output_parsers.string import StrOutputParser\n",
        "from langchain.schema import HumanMessage, AIMessage\n",
        "_search_query = RunnableBranch(\n",
        "    (\n",
        "        RunnableLambda(lambda x: bool(x.get(\"chat_history\"))).with_config(\n",
        "            run_name=\"HasChatHistoryCheck\"\n",
        "        ),\n",
        "        RunnablePassthrough.assign(\n",
        "            chat_history=lambda x: _format_chat_history(x[\"chat_history\"])\n",
        "        )\n",
        "        | CONDENSE_QUESTION_PROMPT\n",
        "        | ChatOpenAI(temperature=0)\n",
        "        | StrOutputParser(),\n",
        "    ),\n",
        "    RunnableLambda(lambda x : x[\"question\"]),\n",
        ")"
      ],
      "metadata": {
        "id": "W9-ShrA4J9T-"
      },
      "execution_count": null,
      "outputs": []
    },
    {
      "cell_type": "code",
      "source": [
        "template = \"\"\"Act like you are Akshat Nigam, Elaborate your answer like you are in an interview for a job:\n",
        "{context}\n",
        "\n",
        "Question: {question}\n",
        "Use natural language and be concise.\n",
        "Answer:\"\"\""
      ],
      "metadata": {
        "id": "Obdlh2M4J_rQ"
      },
      "execution_count": null,
      "outputs": []
    },
    {
      "cell_type": "code",
      "source": [
        "prompt = ChatPromptTemplate.from_template(template)"
      ],
      "metadata": {
        "id": "vwQ6cnbVMBO9"
      },
      "execution_count": null,
      "outputs": []
    },
    {
      "cell_type": "code",
      "source": [
        "from langchain_core.runnables import RunnableParallel\n",
        "chain = (\n",
        "    RunnableParallel(\n",
        "        {\n",
        "            \"context\": _search_query | retriever,\n",
        "            \"question\": RunnablePassthrough(),\n",
        "        }\n",
        "    )\n",
        "    | prompt\n",
        "    | llm\n",
        "    | StrOutputParser()\n",
        ")"
      ],
      "metadata": {
        "id": "buiNND2PMD2m"
      },
      "execution_count": null,
      "outputs": []
    },
    {
      "cell_type": "code",
      "source": [
        "chain.invoke({\"question\": \"where were you born\"})"
      ],
      "metadata": {
        "id": "mhrUd7HEcxi3",
        "colab": {
          "base_uri": "https://localhost:8080/",
          "height": 107
        },
        "outputId": "d9d17581-3b3f-413c-980f-f5ecdb7e2616"
      },
      "execution_count": null,
      "outputs": [
        {
          "output_type": "stream",
          "name": "stdout",
          "text": [
            "Search query: where were you born\n"
          ]
        },
        {
          "output_type": "stream",
          "name": "stderr",
          "text": [
            "WARNING:neo4j.notifications:Received notification from DBMS server: {severity: WARNING} {code: Neo.ClientNotification.Statement.FeatureDeprecationWarning} {category: DEPRECATION} {title: This feature is deprecated and will be removed in future versions.} {description: CALL subquery without a variable scope clause is now deprecated. Use CALL (node, node) { ... }} {position: line: 6, column: 13, offset: 229} for query: \"\\n            CALL db.index.fulltext.queryNodes('entity', $query, {limit:5})\\n            YIELD node, score\\n            WITH node, score\\n            ORDER BY score DESC  // Ensure the highest scoring results come first\\n            CALL {\\n              WITH node\\n              MATCH (node)-[r:!MENTIONS]->(neighbor)\\n              RETURN node.id + ' - ' + type(r) + ' -> ' + neighbor.id AS output\\n              UNION ALL\\n              WITH node\\n              MATCH (node)<-[r:!MENTIONS]-(neighbor)\\n              RETURN neighbor.id + ' - ' + type(r) + ' -> ' +  node.id AS output\\n            }\\n            RETURN output LIMIT 50\\n            \"\n",
            "WARNING:neo4j.notifications:Received notification from DBMS server: {severity: WARNING} {code: Neo.ClientNotification.Statement.FeatureDeprecationWarning} {category: DEPRECATION} {title: This feature is deprecated and will be removed in future versions.} {description: CALL subquery without a variable scope clause is now deprecated. Use CALL () { ... }} {position: line: 1, column: 1, offset: 0} for query: \"CALL { CALL db.index.vector.queryNodes($index, $k, $embedding) YIELD node, score WITH collect({node:node, score:score}) AS nodes, max(score) AS max UNWIND nodes AS n RETURN n.node AS node, (n.score / max) AS score UNION CALL db.index.fulltext.queryNodes($keyword_index, $query, {limit: $k}) YIELD node, score WITH collect({node:node, score:score}) AS nodes, max(score) AS max UNWIND nodes AS n RETURN n.node AS node, (n.score / max) AS score } WITH node, max(score) AS score ORDER BY score DESC LIMIT $k RETURN reduce(str='', k IN ['text'] | str + '\\\\n' + k + ': ' + coalesce(node[k], '')) AS text, node {.*, `embedding`: Null, id: Null, `text`: Null} AS metadata, score\"\n"
          ]
        },
        {
          "output_type": "execute_result",
          "data": {
            "text/plain": [
              "'I was born and raised in Kanpur, India.'"
            ],
            "application/vnd.google.colaboratory.intrinsic+json": {
              "type": "string"
            }
          },
          "metadata": {},
          "execution_count": 40
        }
      ]
    }
  ]
}